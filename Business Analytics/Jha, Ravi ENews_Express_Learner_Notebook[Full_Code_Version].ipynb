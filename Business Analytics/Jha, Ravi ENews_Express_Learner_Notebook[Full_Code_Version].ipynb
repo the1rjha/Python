{
 "cells": [
  {
   "cell_type": "markdown",
   "id": "6yDxo9u0d9Na",
   "metadata": {
    "id": "6yDxo9u0d9Na"
   },
   "source": [
    "# Project Business Statistics: E-news Express\n",
    "\n",
    "**Marks: 60**"
   ]
  },
  {
   "cell_type": "markdown",
   "id": "SrLd-ICEmPSD",
   "metadata": {
    "id": "SrLd-ICEmPSD"
   },
   "source": [
    "## Define Problem Statement and Objectives"
   ]
  },
  {
   "cell_type": "markdown",
   "id": "9Vt1PLLqmXNn",
   "metadata": {
    "id": "9Vt1PLLqmXNn"
   },
   "source": [
    "## Problem Statement\n",
    "E-news Express's design team has created a new landing page to see if they can acquire new subscribers. They are doing an A/B test to compare the previous landing page with the new landing page to determine the effectiveness of the new landing page. 100 users have been randomly selected and divided equally into two groups. The old landing page is served to the first group (the control group), and the new landing page is served to the second group (the treatment group). Various data about the customers in both groups are collected in 'abtest.csv'. \n",
    "\n",
    "## Objectives\n",
    "\n",
    "Through statistical analyses, the following questions will be answered/explored:\n",
    "1.\tExplore the dataset and extract insights using Exploratory Data Analysis.\n",
    "2.\tDo the users spend more time on the new landing page than the old landing page?\n",
    "3.\tIs the conversion rate (the proportion of users who visit the landing page and get converted) for the new page greater than the conversion rate for the old page?\n",
    "4.\tDoes the converted status depend on the preferred language? [Hint: Create a contingency table using the pandas.crosstab() function]\n",
    "5.\tIs the mean time spent on the new page same for the different language users?\n",
    "\n",
    "*A significance level $\\alpha$ of 0.05 is used for all tests.\n",
    "\n",
    "## Data Dictionary\n",
    "Data Dictionary:\n",
    "1.\tuser_id - This represents the user ID of the person visiting the website.\n",
    "2.\tgroup - This represents whether the user belongs to the first group (control) or the second group (treatment).\n",
    "3.\tlanding_page - This represents whether the landing page is new or old.\n",
    "4.\ttime_spent_on_the_page - This represents the time (in minutes) spent by the user on the landing page.\n",
    "5.\tconverted - This represents whether the user gets converted to a subscriber of the news portal or not.\n",
    "6.  language_preferred - This represents the language chosen by the user to view the landing page.\n"
   ]
  },
  {
   "cell_type": "markdown",
   "id": "a6a3d218",
   "metadata": {
    "id": "a6a3d218"
   },
   "source": [
    "## Import all the necessary libraries"
   ]
  },
  {
   "cell_type": "code",
   "execution_count": 1,
   "id": "658c5dec",
   "metadata": {
    "id": "658c5dec"
   },
   "outputs": [],
   "source": [
    "import numpy as np\n",
    "import pandas as pd\n",
    "from matplotlib import pyplot as plt\n",
    "import seaborn as sns\n",
    "from scipy.stats import ttest_ind\n",
    "from statsmodels.stats.proportion import proportions_ztest\n",
    "from scipy.stats import chi2_contingency\n",
    "from scipy.stats import f_oneway "
   ]
  },
  {
   "cell_type": "markdown",
   "id": "9d75cfa2",
   "metadata": {
    "id": "9d75cfa2"
   },
   "source": [
    "## 1. Explore the dataset and extract insights using Exploratory Data Analysis. (10 Marks)"
   ]
  },
  {
   "cell_type": "markdown",
   "id": "27201534",
   "metadata": {
    "id": "27201534"
   },
   "source": [
    "### Exploratory Data Analysis - Step by step approach\n",
    "\n",
    "Typical Data exploration activity consists of the following steps:\n",
    "1.\tImporting Data\n",
    "2.\tVariable Identification\n",
    "3.  Variable Transformation/Feature Creation\n",
    "4.  Missing value detection\n",
    "5.\tUnivariate Analysis\n",
    "6.\tBivariate Analysis"
   ]
  },
  {
   "cell_type": "markdown",
   "id": "6970dd99",
   "metadata": {
    "id": "6970dd99"
   },
   "source": [
    "### Reading the Data into a DataFrame"
   ]
  },
  {
   "cell_type": "code",
   "execution_count": 2,
   "id": "d3b95640",
   "metadata": {
    "id": "d3b95640"
   },
   "outputs": [
    {
     "name": "stdout",
     "output_type": "stream",
     "text": [
      "    user_id      group landing_page  time_spent_on_the_page converted  \\\n",
      "0    546592    control          old                    3.48        no   \n",
      "1    546468  treatment          new                    7.13       yes   \n",
      "2    546462  treatment          new                    4.40        no   \n",
      "3    546567    control          old                    3.02        no   \n",
      "4    546459  treatment          new                    4.75       yes   \n",
      "..      ...        ...          ...                     ...       ...   \n",
      "95   546446  treatment          new                    5.15        no   \n",
      "96   546544    control          old                    6.52       yes   \n",
      "97   546472  treatment          new                    7.07       yes   \n",
      "98   546481  treatment          new                    6.20       yes   \n",
      "99   546483  treatment          new                    5.86       yes   \n",
      "\n",
      "   language_preferred  \n",
      "0             Spanish  \n",
      "1             English  \n",
      "2             Spanish  \n",
      "3              French  \n",
      "4             Spanish  \n",
      "..                ...  \n",
      "95            Spanish  \n",
      "96            English  \n",
      "97            Spanish  \n",
      "98            Spanish  \n",
      "99            English  \n",
      "\n",
      "[100 rows x 6 columns]\n"
     ]
    }
   ],
   "source": [
    "# write the code for reading the dataset abtest.csv\n",
    "#Reading in the data\n",
    "df = pd.read_csv('abtest.csv')\n",
    "print(df)"
   ]
  },
  {
   "cell_type": "markdown",
   "id": "a4e471fd",
   "metadata": {
    "id": "a4e471fd"
   },
   "source": [
    "### Data Overview\n",
    "- View a few rows of the data frame.\n",
    "- Check the shape and data types of the data frame. Add observations.\n",
    "- Fix the data-types (if needed).\n",
    "- Missing Value Check.\n",
    "- Summary statistics from the data frame. Add observations."
   ]
  },
  {
   "cell_type": "code",
   "execution_count": 3,
   "id": "e1ad11d4",
   "metadata": {
    "id": "e1ad11d4"
   },
   "outputs": [
    {
     "name": "stdout",
     "output_type": "stream",
     "text": [
      "   user_id      group landing_page  time_spent_on_the_page converted  \\\n",
      "0   546592    control          old                    3.48        no   \n",
      "1   546468  treatment          new                    7.13       yes   \n",
      "2   546462  treatment          new                    4.40        no   \n",
      "3   546567    control          old                    3.02        no   \n",
      "4   546459  treatment          new                    4.75       yes   \n",
      "\n",
      "  language_preferred  \n",
      "0            Spanish  \n",
      "1            English  \n",
      "2            Spanish  \n",
      "3             French  \n",
      "4            Spanish  \n",
      "\n",
      "\n",
      "The shape of the dataframe is (100, 6). \n",
      "There are 100 rows and 6 columns\n",
      "\n",
      "\n",
      "user_id                     int64\n",
      "group                      object\n",
      "landing_page               object\n",
      "time_spent_on_the_page    float64\n",
      "converted                  object\n",
      "language_preferred         object\n",
      "dtype: object\n"
     ]
    }
   ],
   "source": [
    "#Data Overview\n",
    "#Viewing first 5 rows\n",
    "print(df.head())\n",
    "\n",
    "#Shape of dataframe\n",
    "print('\\n')\n",
    "print(f\"The shape of the dataframe is {df.shape}. \\nThere are {df.shape[0]} rows and {df.shape[1]} columns\")\n",
    "\n",
    "#Datatypes in dataframe\n",
    "print('\\n')\n",
    "print(df.dtypes)"
   ]
  },
  {
   "cell_type": "code",
   "execution_count": 4,
   "id": "39186f47",
   "metadata": {},
   "outputs": [
    {
     "name": "stdout",
     "output_type": "stream",
     "text": [
      "user_id                      int64\n",
      "group                     category\n",
      "landing_page              category\n",
      "time_spent_on_the_page     float64\n",
      "converted                 category\n",
      "language_preferred        category\n",
      "dtype: object\n"
     ]
    }
   ],
   "source": [
    "#Converting group, landing_page, converted, and language_preferred to categorical type from object type\n",
    "cols = [\"group\", \"landing_page\", \"converted\", \"language_preferred\"]\n",
    "df[cols] = df[cols].astype('category')\n",
    "\n",
    "#Verifying conversions applied to columns\n",
    "print(df.dtypes)"
   ]
  },
  {
   "cell_type": "code",
   "execution_count": 5,
   "id": "4788dfd2",
   "metadata": {},
   "outputs": [
    {
     "name": "stdout",
     "output_type": "stream",
     "text": [
      "user_id                   0\n",
      "group                     0\n",
      "landing_page              0\n",
      "time_spent_on_the_page    0\n",
      "converted                 0\n",
      "language_preferred        0\n",
      "dtype: int64\n",
      "\n",
      "\n",
      "True or False, are there any missing values? False\n",
      "\n",
      "\n",
      "Total number of missing values (if any) is 0\n"
     ]
    }
   ],
   "source": [
    "# Determining if there are any missing values in the dataframe\n",
    "# Total missing values for each column\n",
    "print(df.isnull().sum())\n",
    "\n",
    "# Any missing values?\n",
    "print('\\n')\n",
    "print(\"True or False, are there any missing values?\", df.isnull().values.any())\n",
    "\n",
    "# Total number of missing values (if any)\n",
    "print('\\n')\n",
    "print(\"Total number of missing values (if any) is\", df.isnull().sum().sum())"
   ]
  },
  {
   "cell_type": "code",
   "execution_count": 6,
   "id": "b42c3e27",
   "metadata": {},
   "outputs": [
    {
     "data": {
      "text/html": [
       "<div>\n",
       "<style scoped>\n",
       "    .dataframe tbody tr th:only-of-type {\n",
       "        vertical-align: middle;\n",
       "    }\n",
       "\n",
       "    .dataframe tbody tr th {\n",
       "        vertical-align: top;\n",
       "    }\n",
       "\n",
       "    .dataframe thead th {\n",
       "        text-align: right;\n",
       "    }\n",
       "</style>\n",
       "<table border=\"1\" class=\"dataframe\">\n",
       "  <thead>\n",
       "    <tr style=\"text-align: right;\">\n",
       "      <th></th>\n",
       "      <th>user_id</th>\n",
       "      <th>time_spent_on_the_page</th>\n",
       "    </tr>\n",
       "  </thead>\n",
       "  <tbody>\n",
       "    <tr>\n",
       "      <th>count</th>\n",
       "      <td>100.00</td>\n",
       "      <td>100.00</td>\n",
       "    </tr>\n",
       "    <tr>\n",
       "      <th>mean</th>\n",
       "      <td>546517.00</td>\n",
       "      <td>5.38</td>\n",
       "    </tr>\n",
       "    <tr>\n",
       "      <th>std</th>\n",
       "      <td>52.30</td>\n",
       "      <td>2.38</td>\n",
       "    </tr>\n",
       "    <tr>\n",
       "      <th>min</th>\n",
       "      <td>546443.00</td>\n",
       "      <td>0.19</td>\n",
       "    </tr>\n",
       "    <tr>\n",
       "      <th>25%</th>\n",
       "      <td>546467.75</td>\n",
       "      <td>3.88</td>\n",
       "    </tr>\n",
       "    <tr>\n",
       "      <th>50%</th>\n",
       "      <td>546492.50</td>\n",
       "      <td>5.42</td>\n",
       "    </tr>\n",
       "    <tr>\n",
       "      <th>75%</th>\n",
       "      <td>546567.25</td>\n",
       "      <td>7.02</td>\n",
       "    </tr>\n",
       "    <tr>\n",
       "      <th>max</th>\n",
       "      <td>546592.00</td>\n",
       "      <td>10.71</td>\n",
       "    </tr>\n",
       "  </tbody>\n",
       "</table>\n",
       "</div>"
      ],
      "text/plain": [
       "         user_id  time_spent_on_the_page\n",
       "count     100.00                  100.00\n",
       "mean   546517.00                    5.38\n",
       "std        52.30                    2.38\n",
       "min    546443.00                    0.19\n",
       "25%    546467.75                    3.88\n",
       "50%    546492.50                    5.42\n",
       "75%    546567.25                    7.02\n",
       "max    546592.00                   10.71"
      ]
     },
     "execution_count": 6,
     "metadata": {},
     "output_type": "execute_result"
    }
   ],
   "source": [
    "# Getting summary statistics for quantitative values - user_id and time_spent_on_the_page. Rounding values to 2 to avoid pandas from displaying scientific notation.\n",
    "df[[\"user_id\", \"time_spent_on_the_page\"]].describe().round(2)"
   ]
  },
  {
   "cell_type": "code",
   "execution_count": 7,
   "id": "2f0d182d",
   "metadata": {},
   "outputs": [
    {
     "data": {
      "text/html": [
       "<div>\n",
       "<style scoped>\n",
       "    .dataframe tbody tr th:only-of-type {\n",
       "        vertical-align: middle;\n",
       "    }\n",
       "\n",
       "    .dataframe tbody tr th {\n",
       "        vertical-align: top;\n",
       "    }\n",
       "\n",
       "    .dataframe thead th {\n",
       "        text-align: right;\n",
       "    }\n",
       "</style>\n",
       "<table border=\"1\" class=\"dataframe\">\n",
       "  <thead>\n",
       "    <tr style=\"text-align: right;\">\n",
       "      <th></th>\n",
       "      <th>group</th>\n",
       "      <th>landing_page</th>\n",
       "      <th>converted</th>\n",
       "      <th>language_preferred</th>\n",
       "    </tr>\n",
       "  </thead>\n",
       "  <tbody>\n",
       "    <tr>\n",
       "      <th>count</th>\n",
       "      <td>100</td>\n",
       "      <td>100</td>\n",
       "      <td>100</td>\n",
       "      <td>100</td>\n",
       "    </tr>\n",
       "    <tr>\n",
       "      <th>unique</th>\n",
       "      <td>2</td>\n",
       "      <td>2</td>\n",
       "      <td>2</td>\n",
       "      <td>3</td>\n",
       "    </tr>\n",
       "    <tr>\n",
       "      <th>top</th>\n",
       "      <td>control</td>\n",
       "      <td>new</td>\n",
       "      <td>yes</td>\n",
       "      <td>French</td>\n",
       "    </tr>\n",
       "    <tr>\n",
       "      <th>freq</th>\n",
       "      <td>50</td>\n",
       "      <td>50</td>\n",
       "      <td>54</td>\n",
       "      <td>34</td>\n",
       "    </tr>\n",
       "  </tbody>\n",
       "</table>\n",
       "</div>"
      ],
      "text/plain": [
       "          group landing_page converted language_preferred\n",
       "count       100          100       100                100\n",
       "unique        2            2         2                  3\n",
       "top     control          new       yes             French\n",
       "freq         50           50        54                 34"
      ]
     },
     "execution_count": 7,
     "metadata": {},
     "output_type": "execute_result"
    }
   ],
   "source": [
    "# Getting summary statistics for categorical values - group, landing_page, converted, language_preferred\n",
    "df[[\"group\", \"landing_page\", \"converted\", \"language_preferred\"]].describe()"
   ]
  },
  {
   "cell_type": "markdown",
   "id": "a4c10d54",
   "metadata": {},
   "source": [
    "### Observations\n",
    "* There are 100 rows and 6 columns in the dataset.\n",
    "* The six columns originally have the following datatypes: \n",
    "    * user_id, int64\n",
    "    * group, object\n",
    "    * landing_page, object\n",
    "    * time_spent_on_the_page, float64\n",
    "    * converted, object\n",
    "    * language_preferred, object\n",
    "* Converted group, landing_page, converted, and language_preferred columns to dtype category to reduce memory usage.\n",
    "* No missing values anywhere in the dataframe\n",
    "* Takeaways from summary statistics of numeric columns (user_id, time_spent)\n",
    "    * user_id has 100 unique values, which means no duplicates (no one user belong to both groups and is seeing both types of landing page), and is a way of identifying characteristics of a user.\n",
    "    * time_spent_on_the_page ranges from 0.19 minutes to 10.71 minutes with the mean being 5.38 minutes. These values are for both types of landing page and for all languages.\n",
    "* Takeaways from summary statistics of categorical columns (group, landing_page, converted, language_preferred)\n",
    "    * group has 2 unique values (control and treatment) with each group having 50 participants.\n",
    "    * landing_page has 2 unique values (new and old) with each page viewed 50 times.\n",
    "    * converted has 2 unique values (no and yes) with there being more converts (Yes - 54). The number of converts is for both types of landing page.\n",
    "    * language_preferred has 3 unique values with French the most common (French - 34)."
   ]
  },
  {
   "cell_type": "markdown",
   "id": "68f3b2c9",
   "metadata": {
    "id": "68f3b2c9"
   },
   "source": [
    "### Univariate Analysis"
   ]
  },
  {
   "cell_type": "code",
   "execution_count": 8,
   "id": "1932d0f3",
   "metadata": {
    "id": "1932d0f3"
   },
   "outputs": [],
   "source": [
    "# function to plot a boxplot and a histogram along the same scale.\n",
    "\n",
    "\n",
    "def histogram_boxplot(data, feature, figsize=(12, 7), kde=False, bins=None):\n",
    "    \"\"\"\n",
    "    Boxplot and histogram combined\n",
    "\n",
    "    data: dataframe\n",
    "    feature: dataframe column\n",
    "    figsize: size of figure (default (12,7))\n",
    "    kde: whether to show the density curve (default False)\n",
    "    bins: number of bins for histogram (default None)\n",
    "    \"\"\"\n",
    "    f2, (ax_box2, ax_hist2) = plt.subplots(\n",
    "        nrows=2,  # Number of rows of the subplot grid= 2\n",
    "        sharex=True,  # x-axis will be shared among all subplots\n",
    "        gridspec_kw={\"height_ratios\": (0.25, 0.75)},\n",
    "        figsize=figsize,\n",
    "    )  # creating the 2 subplots\n",
    "    sns.boxplot(\n",
    "        data=data, x=feature, ax=ax_box2, showmeans=True, color=\"violet\"\n",
    "    )  # boxplot will be created and a star will indicate the mean value of the column\n",
    "    sns.histplot(\n",
    "        data=data, x=feature, kde=kde, ax=ax_hist2, bins=bins, palette=\"winter\"\n",
    "    ) if bins else sns.histplot(\n",
    "        data=data, x=feature, kde=kde, ax=ax_hist2\n",
    "    )  # For histogram\n",
    "    ax_hist2.axvline(\n",
    "        data[feature].mean(), color=\"green\", linestyle=\"--\"\n",
    "    )  # Add mean to the histogram\n",
    "    ax_hist2.axvline(\n",
    "        data[feature].median(), color=\"black\", linestyle=\"-\"\n",
    "    )  # Add median to the histogram"
   ]
  },
  {
   "cell_type": "code",
   "execution_count": 9,
   "id": "2fce6350",
   "metadata": {
    "id": "2fce6350"
   },
   "outputs": [],
   "source": [
    "# function to create labeled barplots\n",
    "\n",
    "\n",
    "def labeled_barplot(data, feature, perc=False, n=None):\n",
    "    \"\"\"\n",
    "    Barplot with percentage at the top\n",
    "\n",
    "    data: dataframe\n",
    "    feature: dataframe column\n",
    "    perc: whether to display percentages instead of count (default is False)\n",
    "    n: displays the top n category levels (default is None, i.e., display all levels)\n",
    "    \"\"\"\n",
    "\n",
    "    total = len(data[feature])  # length of the column\n",
    "    count = data[feature].nunique()\n",
    "    if n is None:\n",
    "        plt.figure(figsize=(count + 1, 5))\n",
    "    else:\n",
    "        plt.figure(figsize=(n + 1, 5))\n",
    "\n",
    "    plt.xticks(rotation=90, fontsize=15)\n",
    "    ax = sns.countplot(data=data, x=feature, palette=\"Paired\", order=data[feature].value_counts().index[:n].sort_values())\n",
    "\n",
    "    for p in ax.patches:\n",
    "        if perc == True:\n",
    "            label = \"{:.1f}%\".format(100 * p.get_height() / total)  # percentage of each class of the category\n",
    "        else:\n",
    "            label = p.get_height()  # count of each level of the category\n",
    "\n",
    "        x = p.get_x() + p.get_width() / 2  # width of the plot\n",
    "        y = p.get_height()      # height of the plot\n",
    "\n",
    "        ax.annotate(label, (x, y), ha=\"center\", va=\"center\", size=12, xytext=(0, 5), textcoords=\"offset points\")  # annotate the percentage\n",
    "\n",
    "    plt.show()  # show the plot"
   ]
  },
  {
   "cell_type": "code",
   "execution_count": 10,
   "id": "e6f99481",
   "metadata": {
    "id": "e6f99481"
   },
   "outputs": [
    {
     "data": {
      "image/png": "[encoded data removed]",
      "text/plain": [
       "<Figure size 216x360 with 1 Axes>"
      ]
     },
     "metadata": {
      "needs_background": "light"
     },
     "output_type": "display_data"
    }
   ],
   "source": [
    "#group \n",
    "labeled_barplot(df, \"group\", perc = True)"
   ]
  },
  {
   "cell_type": "markdown",
   "id": "adc927dc",
   "metadata": {},
   "source": [
    "# Observation\n",
    "*  The bar plot confirms that both the control and treatment groups have the same split with each group having 50 people."
   ]
  },
  {
   "cell_type": "code",
   "execution_count": 11,
   "id": "1f3f230b",
   "metadata": {},
   "outputs": [
    {
     "data": {
      "image/png": "[encoded data removed]",
      "text/plain": [
       "<Figure size 216x360 with 1 Axes>"
      ]
     },
     "metadata": {
      "needs_background": "light"
     },
     "output_type": "display_data"
    }
   ],
   "source": [
    "#landing_page\n",
    "labeled_barplot(df, \"landing_page\", perc = True)"
   ]
  },
  {
   "cell_type": "markdown",
   "id": "fa021d1c",
   "metadata": {},
   "source": [
    "# Observation\n",
    "*  The bar plot confirms that both the old and new landing pages were shown 50 times each with the old landing page shown to the control group and the new landing page showed to the treatment group."
   ]
  },
  {
   "cell_type": "code",
   "execution_count": 12,
   "id": "cf488a27",
   "metadata": {},
   "outputs": [
    {
     "data": {
      "image/png": "[encoded data removed]",
      "text/plain": [
       "<Figure size 864x504 with 2 Axes>"
      ]
     },
     "metadata": {
      "needs_background": "light"
     },
     "output_type": "display_data"
    }
   ],
   "source": [
    "#time_spent_on_the_page\n",
    "histogram_boxplot(df, \"time_spent_on_the_page\")"
   ]
  },
  {
   "cell_type": "markdown",
   "id": "9c533ab8",
   "metadata": {},
   "source": [
    "# Observations\n",
    "*  The mean and median of time spent on the landing pages (both old and new) are shown to be very similar on the boxplot and histogram.\n",
    "*  Due to the very small distance between mean and median, the distribution is pretty symmetrical.\n",
    "*  There is a small group of users that spend up to 3 minutes on the landing page, and a smaller group of users that spend 9+ minutes. The rest fall in the middle."
   ]
  },
  {
   "cell_type": "code",
   "execution_count": 13,
   "id": "71cadb5c",
   "metadata": {},
   "outputs": [
    {
     "data": {
      "image/png": "[encoded data removed]",
      "text/plain": [
       "<Figure size 216x360 with 1 Axes>"
      ]
     },
     "metadata": {
      "needs_background": "light"
     },
     "output_type": "display_data"
    }
   ],
   "source": [
    "#converted\n",
    "labeled_barplot(df, \"converted\", perc = True)"
   ]
  },
  {
   "cell_type": "markdown",
   "id": "32404d31",
   "metadata": {},
   "source": [
    "# Observation\n",
    "*  For all landing pages (old and new), the total conversion out of the 100 randomly selected users is 54%, which is 54 users."
   ]
  },
  {
   "cell_type": "code",
   "execution_count": 14,
   "id": "c36db018",
   "metadata": {},
   "outputs": [
    {
     "data": {
      "image/png": "[encoded data removed]",
      "text/plain": [
       "<Figure size 288x360 with 1 Axes>"
      ]
     },
     "metadata": {
      "needs_background": "light"
     },
     "output_type": "display_data"
    }
   ],
   "source": [
    "#language_preferred\n",
    "labeled_barplot(df, \"language_preferred\", perc = True)"
   ]
  },
  {
   "cell_type": "markdown",
   "id": "50ad31a6",
   "metadata": {},
   "source": [
    "# Observation\n",
    "*  There are two top langauges, French and Spanish, each measuring at 34% (which is also 34 users each) and English measuring at 32% (32 users), which comes out to 100 users total."
   ]
  },
  {
   "cell_type": "markdown",
   "id": "fad2de2f",
   "metadata": {
    "id": "fad2de2f"
   },
   "source": [
    "### Bivariate Analysis"
   ]
  },
  {
   "cell_type": "code",
   "execution_count": 15,
   "id": "58e9a1d0",
   "metadata": {
    "id": "58e9a1d0"
   },
   "outputs": [
    {
     "data": {
      "image/png": "[encoded data removed]",
      "text/plain": [
       "<Figure size 1080x504 with 1 Axes>"
      ]
     },
     "metadata": {
      "needs_background": "light"
     },
     "output_type": "display_data"
    }
   ],
   "source": [
    "#Relationship between time_spent_on_the_page and group\n",
    "plt.figure(figsize=(15,7))\n",
    "sns.boxplot(x = \"time_spent_on_the_page\", y = \"group\", data = df, palette = 'PuBu')\n",
    "plt.xticks(rotation = 0)\n",
    "plt.show()"
   ]
  },
  {
   "cell_type": "markdown",
   "id": "397448da",
   "metadata": {},
   "source": [
    "# Observations\n",
    "*  For the control boxplot, there is a wider Interquartile Range than in the treatment boxplot.\n",
    "*  The treatment group's Interquartile Range range is smaller, however, its 25th percentile value is greater than the control's median time. The 75th percentile value of the treatment group is ~1.5 minutes more than the 75th percentile value of the control group.\n",
    "*  The median time spent on the landing page for the control group is ~2 minutes less than the median time spent on the landing page for the treatment group.\n",
    "*  There are outliers for time spent on both sides for the treatment group. \n",
    "*  There are no outliers for time spent on either side for the control group.\n",
    "*  The control boxplot has a right skew, and the treatment boxplot has a slight right skew."
   ]
  },
  {
   "cell_type": "code",
   "execution_count": 16,
   "id": "25633432",
   "metadata": {},
   "outputs": [
    {
     "data": {
      "image/png": "[encoded data removed]",
      "text/plain": [
       "<Figure size 1080x504 with 1 Axes>"
      ]
     },
     "metadata": {
      "needs_background": "light"
     },
     "output_type": "display_data"
    }
   ],
   "source": [
    "#Relationship between time_spent_on_the_page and landing_page\n",
    "plt.figure(figsize=(15,7))\n",
    "sns.boxplot(x = \"time_spent_on_the_page\", y = \"landing_page\", data = df, palette = 'PuBu')\n",
    "plt.xticks(rotation = 0)\n",
    "plt.show()"
   ]
  },
  {
   "cell_type": "markdown",
   "id": "7d801782",
   "metadata": {},
   "source": [
    "# Observations\n",
    "*  The new landing page was shown to the treatment group, and the old landing page was shown to the control group. The boxplots group vs time_spent_on_the_page and landing_page vs time_spent_on_the_page are the same boxplot. This confirms the groups were given the appropriate landing pages since the boxplots are the same.\n",
    "*  For the old landing page boxplot, there is a wider Interquartile Range than in the new landing page boxplot.\n",
    "*  The new landing page's Interquartile Range is smaller, however, its 25th percentile value is greater than the old landing page's median time. \n",
    "*  The 75th percentile value of the new landing page is ~1.5 minutes more than the 75th percentile value of the old landing page.\n",
    "*  The median time spent on the old landing page is ~2 minutes less than the median time spent on the new landing page.\n",
    "*  There are outliers for time spent on both sides for the new landing page.\n",
    "*  There are no outliers for time spent on either side for the old landing page.\n",
    "*  The new landing page boxplot has a slight right skew, and the old landing page boxplot has a right skew."
   ]
  },
  {
   "cell_type": "code",
   "execution_count": 17,
   "id": "6b4ef109",
   "metadata": {},
   "outputs": [
    {
     "data": {
      "image/png": "[encoded data removed]",
      "text/plain": [
       "<Figure size 1080x504 with 1 Axes>"
      ]
     },
     "metadata": {
      "needs_background": "light"
     },
     "output_type": "display_data"
    }
   ],
   "source": [
    "#Relationship between time_spent_on_the_page and converted\n",
    "plt.figure(figsize=(15,7))\n",
    "sns.boxplot(x = \"time_spent_on_the_page\", y = \"converted\", data = df, palette = 'PuBu')\n",
    "plt.xticks(rotation = 0)\n",
    "plt.show()"
   ]
  },
  {
   "cell_type": "markdown",
   "id": "b1702876",
   "metadata": {},
   "source": [
    "# Observations\n",
    "*  The Interquartile Range of the no conversion boxplot is larger than the Interquartile Range of the yes conversion boxplot.\n",
    "*  The no conversion boxplot looks to have a left skew.\n",
    "*  The yes conversion boxplot looks to have a slight left skew.\n",
    "*  The Interquartile range values of the yes boxplot are all higher than the 75th percentile value in the no conversion boxplot.\n",
    "*  There is an outlier above the maximum value of the no boxplot.\n",
    "*  There is an outlier below the minium value of the yes boxplot, and there are three outliers above the maximum value.\n",
    "*  The median of the yes boxplot is 2+ minutes more than the no boxplot."
   ]
  },
  {
   "cell_type": "code",
   "execution_count": 18,
   "id": "4298711a",
   "metadata": {},
   "outputs": [
    {
     "data": {
      "image/png": "[encoded data removed]",
      "text/plain": [
       "<Figure size 1080x504 with 1 Axes>"
      ]
     },
     "metadata": {
      "needs_background": "light"
     },
     "output_type": "display_data"
    }
   ],
   "source": [
    "#Relationship between time_spent_on_the_page and language_preferred\n",
    "plt.figure(figsize=(15,7))\n",
    "sns.boxplot(x = \"time_spent_on_the_page\", y = \"language_preferred\", data = df, palette = 'PuBu')\n",
    "plt.xticks(rotation = 0)\n",
    "plt.show()"
   ]
  },
  {
   "cell_type": "markdown",
   "id": "b9ca3a5f",
   "metadata": {},
   "source": [
    "# Observations\n",
    "*  The Interquartile Range is the largest for the French boxplot followed by the English and Spanish boxplots. \n",
    "*  The English and Spanish boxplots appear to have left skews, while the French boxplot appears to have a slight right skew.\n",
    "*  The English and French boxplots have no outliers. \n",
    "*  The Spanish boxplot has one outlier below the minimum value.\n",
    "*  The English boxplot has the highest median, followed closely by the Spanish, and last is the French.\n",
    "*  The French boxplot has the lowest 25th percentile value of the three boxplots and the highest 75th percentile value of the three boxplots."
   ]
  },
  {
   "cell_type": "code",
   "execution_count": 19,
   "id": "5c1ec2d5",
   "metadata": {},
   "outputs": [
    {
     "data": {
      "image/png": "[encoded data removed]",
      "text/plain": [
       "<Figure size 1080x504 with 1 Axes>"
      ]
     },
     "metadata": {
      "needs_background": "light"
     },
     "output_type": "display_data"
    }
   ],
   "source": [
    "#Relationship between landing_page and converted\n",
    "plt.figure(figsize=(15,7))\n",
    "ax = sns.countplot(data = df, x = \"landing_page\", hue = \"converted\")\n",
    "for container in ax.containers:\n",
    "    ax.bar_label(container)"
   ]
  },
  {
   "cell_type": "markdown",
   "id": "9f07484f",
   "metadata": {},
   "source": [
    "# Observations\n",
    "*  Looking at the A/B test data, 12 more people converted on the new landing page than the old landing page.\n",
    "*  12 more people didn't convert on the old landing page compared to the new landing page.\n",
    "*  Both old and new landing page groups contain 50 people each.\n",
    "*  The new landing page has the greatest differential between yes/no conversions (favoring yes) compared to the old landing page (+16 for new vs. +8 for old)."
   ]
  },
  {
   "cell_type": "code",
   "execution_count": 20,
   "id": "c7e29131",
   "metadata": {},
   "outputs": [
    {
     "data": {
      "image/png": "[encoded data removed]",
      "text/plain": [
       "<Figure size 1080x504 with 1 Axes>"
      ]
     },
     "metadata": {
      "needs_background": "light"
     },
     "output_type": "display_data"
    }
   ],
   "source": [
    "#Relationship between language_preferred and converted\n",
    "plt.figure(figsize=(15,7))\n",
    "ax = sns.countplot(data = df, x = \"language_preferred\", hue = \"converted\")\n",
    "for container in ax.containers:\n",
    "    ax.bar_label(container)"
   ]
  },
  {
   "cell_type": "markdown",
   "id": "05690ea5",
   "metadata": {},
   "source": [
    "# Observations\n",
    "*  The users that saw either the old or new landing in English had the most conversions, with 21. Next was Spanish users with 18, and last was French users with 15.\n",
    "*  The French landing page had the most no conversions, followed by the Spanish one.\n",
    "*  The English landing page had the fewest no conversions, and the greatest differential beteween yes/no conversions (favoring yes) of the three landing page languages (+10 for English, +4 for Spanish, and -2 for French)."
   ]
  },
  {
   "cell_type": "markdown",
   "id": "27906576",
   "metadata": {
    "id": "27906576"
   },
   "source": [
    "## 2. Do the users spend more time on the new landing page than the existing landing page? (10 Marks)"
   ]
  },
  {
   "cell_type": "markdown",
   "id": "e5fdf0c8",
   "metadata": {
    "id": "e5fdf0c8"
   },
   "source": [
    "### Perform Visual Analysis"
   ]
  },
  {
   "cell_type": "code",
   "execution_count": 21,
   "id": "b74cee83",
   "metadata": {},
   "outputs": [
    {
     "data": {
      "text/plain": [
       "<AxesSubplot:xlabel='time_spent_on_the_page', ylabel='landing_page'>"
      ]
     },
     "execution_count": 21,
     "metadata": {},
     "output_type": "execute_result"
    },
    {
     "data": {
      "image/png": "[encoded data removed]",
      "text/plain": [
       "<Figure size 432x288 with 1 Axes>"
      ]
     },
     "metadata": {
      "needs_background": "light"
     },
     "output_type": "display_data"
    }
   ],
   "source": [
    "#Barplot of time_spent_on_the_page vs. landing_page type\n",
    "sns.barplot(data = df, x = \"time_spent_on_the_page\", y = \"landing_page\")"
   ]
  },
  {
   "cell_type": "code",
   "execution_count": 22,
   "id": "86b25bc0",
   "metadata": {},
   "outputs": [
    {
     "data": {
      "text/plain": [
       "<AxesSubplot:xlabel='time_spent_on_the_page', ylabel='landing_page'>"
      ]
     },
     "execution_count": 22,
     "metadata": {},
     "output_type": "execute_result"
    },
    {
     "data": {
      "image/png": "[encoded data removed]",
      "text/plain": [
       "<Figure size 432x288 with 1 Axes>"
      ]
     },
     "metadata": {
      "needs_background": "light"
     },
     "output_type": "display_data"
    }
   ],
   "source": [
    "#Pointplot of time_spent_on_the_page vs. landing_page type\n",
    "sns.pointplot(data = df, x = \"time_spent_on_the_page\", y = \"landing_page\")"
   ]
  },
  {
   "cell_type": "markdown",
   "id": "6e10d80b",
   "metadata": {},
   "source": [
    "### Observations\n",
    "The barplot has a 95% confidence interval showing the 95% confidence interval as a black error bar on each bar. On the point plot, the point estimate for both old and new landing pages is shown as a dot, and the horiztonal lines that go through both point estimates (~4.5 minutes for the old landing page, and ~6.2 minutes for the new landing page) represent a 95% confidence interval. Per both plots, the lower and upper bounds of the 95% confidence interval for the new landing page is greater than the 95% confidence interval upper bound of the old landing page. There is no overlap between the two confidence intervals.\n",
    "\n",
    "With 95% confidence, we can say that more time is spent on the new landing page than the old. Futher statistical analysis needs to be done to validate this."
   ]
  },
  {
   "cell_type": "markdown",
   "id": "56b3dafd",
   "metadata": {
    "id": "56b3dafd"
   },
   "source": [
    "### Step 1: Define the null and alternate hypotheses"
   ]
  },
  {
   "cell_type": "markdown",
   "id": "d2ac77ef",
   "metadata": {
    "id": "d2ac77ef"
   },
   "source": [
    "We want to know if users are spending more time on the new landing page than the old landing page.\n",
    "\n",
    "Null Hypothesis\n",
    "\n",
    "$H_{0}$: $\\mu_1 = \\mu_2$, The time spent on the new landing page is equal to the time spent on the old landing page.\n",
    "\n",
    "Alternative Hypothesis\n",
    "\n",
    "$H_{a}$:  $\\mu_1 > \\mu_2$, The time spent on the new landing page is greater than the time spent on the old landing page."
   ]
  },
  {
   "cell_type": "markdown",
   "id": "c7ee4907",
   "metadata": {
    "id": "c7ee4907"
   },
   "source": [
    "### Step 2: Select Appropriate test\n",
    "\n",
    "The two samples are from two independent populations, both samples were randomly selected, and the time spent on the landing page for both samples are continuous values. Both sample sizes are 50, which is greater than 30 and assumed to be normally distributed. The variances are assumed to be unequal.\n",
    "\n",
    "A two independent sample t-test can be used to analyse the hypotheses and draw a conclusion."
   ]
  },
  {
   "cell_type": "markdown",
   "id": "3f58c9a7",
   "metadata": {
    "id": "3f58c9a7"
   },
   "source": [
    "### Step 3: Decide the significance level"
   ]
  },
  {
   "cell_type": "markdown",
   "id": "92d7d7ee",
   "metadata": {
    "id": "92d7d7ee"
   },
   "source": [
    "Significance level is $\\alpha$ = 0.05"
   ]
  },
  {
   "cell_type": "markdown",
   "id": "5fed2eac",
   "metadata": {
    "id": "5fed2eac"
   },
   "source": [
    "### Step 4: Collect and prepare data"
   ]
  },
  {
   "cell_type": "code",
   "execution_count": 23,
   "id": "f5a59495",
   "metadata": {
    "id": "f5a59495"
   },
   "outputs": [
    {
     "name": "stdout",
     "output_type": "stream",
     "text": [
      "The number of values in the series is 50\n"
     ]
    }
   ],
   "source": [
    "#Subsetting the data into two dataframes, one with time spent on the new landing page, and one with time spent on the old landing page\n",
    "\n",
    "#new landing page (Treatment)\n",
    "time_new = df[\"time_spent_on_the_page\"].where(df[\"landing_page\"] == \"new\")\n",
    "\n",
    "#Dropping NaN values from time_new\n",
    "time_new = time_new.dropna()\n",
    "\n",
    "#Checking number of values in new landing page (treatment)\n",
    "if time_new.shape[0] == 50:\n",
    "    print(\"The number of values in the series is 50\")\n",
    "else:\n",
    "    print(\"The number of values in the series is\", time_new.shape[0])"
   ]
  },
  {
   "cell_type": "code",
   "execution_count": 24,
   "id": "8148c752",
   "metadata": {},
   "outputs": [
    {
     "name": "stdout",
     "output_type": "stream",
     "text": [
      "The number of values in the series is 50\n"
     ]
    }
   ],
   "source": [
    "#new old page (control)\n",
    "time_old = df[\"time_spent_on_the_page\"].where(df[\"landing_page\"] == \"old\")\n",
    "\n",
    "#Dropping NaN values from time_old\n",
    "time_old = time_old.dropna()\n",
    "\n",
    "#Checking number of values in old landing page (control)\n",
    "if time_old.shape[0] == 50:\n",
    "    print(\"The number of values in the series is 50\")\n",
    "else:\n",
    "    print(\"The number of values in the series is\", time_old.shape[0])"
   ]
  },
  {
   "cell_type": "code",
   "execution_count": 25,
   "id": "b6235044",
   "metadata": {},
   "outputs": [
    {
     "data": {
      "text/plain": [
       "count    50.000000\n",
       "mean      6.223200\n",
       "std       1.817031\n",
       "min       1.650000\n",
       "25%       5.175000\n",
       "50%       6.105000\n",
       "75%       7.160000\n",
       "max      10.710000\n",
       "Name: time_spent_on_the_page, dtype: float64"
      ]
     },
     "execution_count": 25,
     "metadata": {},
     "output_type": "execute_result"
    }
   ],
   "source": [
    "#Getting summary statistics of time spent on page\n",
    "#New landing page (treatment)\n",
    "time_new.describe()"
   ]
  },
  {
   "cell_type": "code",
   "execution_count": 26,
   "id": "dc9d9056",
   "metadata": {},
   "outputs": [
    {
     "data": {
      "text/plain": [
       "count    50.000000\n",
       "mean      4.532400\n",
       "std       2.581975\n",
       "min       0.190000\n",
       "25%       2.720000\n",
       "50%       4.380000\n",
       "75%       6.442500\n",
       "max      10.300000\n",
       "Name: time_spent_on_the_page, dtype: float64"
      ]
     },
     "execution_count": 26,
     "metadata": {},
     "output_type": "execute_result"
    }
   ],
   "source": [
    "#Old landing page (control)\n",
    "time_old.describe()"
   ]
  },
  {
   "cell_type": "markdown",
   "id": "f5c5258d",
   "metadata": {
    "id": "f5c5258d"
   },
   "source": [
    "### Step 5: Calculate the p-value"
   ]
  },
  {
   "cell_type": "code",
   "execution_count": 27,
   "id": "fac8594a",
   "metadata": {
    "id": "fac8594a"
   },
   "outputs": [
    {
     "name": "stdout",
     "output_type": "stream",
     "text": [
      "The p-value is 0.00014\n"
     ]
    }
   ],
   "source": [
    "test_test, p_value = ttest_ind(time_new, time_old, equal_var = False, alternative = \"greater\")\n",
    "print(\"The p-value is\", round (p_value, 5))"
   ]
  },
  {
   "cell_type": "markdown",
   "id": "359b12f8",
   "metadata": {
    "id": "359b12f8"
   },
   "source": [
    "### Step 6: Compare the p-value with $\\alpha$"
   ]
  },
  {
   "cell_type": "code",
   "execution_count": 28,
   "id": "7be47289",
   "metadata": {
    "id": "7be47289"
   },
   "outputs": [
    {
     "name": "stdout",
     "output_type": "stream",
     "text": [
      "The p-value is less than alpha, so the null hypothesis IS rejected.\n"
     ]
    }
   ],
   "source": [
    "#How does p_value compare to alpha?\n",
    "\n",
    "alpha = 0.05\n",
    "\n",
    "if p_value < alpha:\n",
    "    print(\"The p-value is less than alpha, so the null hypothesis IS rejected.\")\n",
    "else:\n",
    "    print(\"The p-value is greater than alpha, so the null hypothesis IS NOT rejected\")"
   ]
  },
  {
   "cell_type": "markdown",
   "id": "d9affc84",
   "metadata": {
    "id": "d9affc84"
   },
   "source": [
    "### Step 7:  Draw inference"
   ]
  },
  {
   "cell_type": "markdown",
   "id": "6b16dd4b",
   "metadata": {
    "id": "6b16dd4b"
   },
   "source": [
    "Since the p-value is below the significance level, we reject the null hypothesis. The result is statistically significant, and we have enough statistical evidence to say that the time spent on the new landing page is greater than the time spent on the old landing page. This is also supported by the bar plot and the point plot.\n",
    "\n",
    "Conclusion - The time spent on the new landing page is greater than the time spent on the old landing page."
   ]
  },
  {
   "cell_type": "markdown",
   "id": "1ad0823a",
   "metadata": {
    "id": "1ad0823a"
   },
   "source": [
    "**A similar approach can be followed to answer the other questions.**"
   ]
  },
  {
   "cell_type": "markdown",
   "id": "353e9d24",
   "metadata": {
    "id": "353e9d24"
   },
   "source": [
    "## 3. Is the conversion rate (the proportion of users who visit the landing page and get converted) for the new page greater than the conversion rate for the old page? (10 Marks)"
   ]
  },
  {
   "cell_type": "markdown",
   "id": "5fdc5eb6",
   "metadata": {},
   "source": [
    "### Perform Visual Analysis"
   ]
  },
  {
   "cell_type": "code",
   "execution_count": 29,
   "id": "9bc2ef8e",
   "metadata": {},
   "outputs": [
    {
     "data": {
      "image/png": "[encoded data removed]",
      "text/plain": [
       "<Figure size 432x288 with 1 Axes>"
      ]
     },
     "metadata": {
      "needs_background": "light"
     },
     "output_type": "display_data"
    }
   ],
   "source": [
    "ax = sns.countplot(data = df, x = \"landing_page\", hue = \"converted\")\n",
    "for container in ax.containers:\n",
    "    ax.bar_label(container)"
   ]
  },
  {
   "cell_type": "markdown",
   "id": "3def2d2b",
   "metadata": {},
   "source": [
    "### Observations\n",
    "\n",
    "*  Looking at the A/B test data, 12 more people converted on the new landing page than the old landing page.\n",
    "*  12 more people didn't convert on the old landing page compared to the new landing page.\n",
    "*  Both old and new landing page groups contain 50 people each.\n",
    "*  The new landing page has the greatest differential between yes/no conversions (favoring yes) compared to the old landing page (+16 for new vs. +8 for old)."
   ]
  },
  {
   "cell_type": "markdown",
   "id": "e7508cf1",
   "metadata": {},
   "source": [
    "### Step 1: Define the null and alternate hypotheses"
   ]
  },
  {
   "cell_type": "markdown",
   "id": "e54787fd",
   "metadata": {
    "id": "b7f52898"
   },
   "source": [
    "There are two categorical variables, \"landing page\" and \"converted\". We want to know if there is a significant difference in conversion rate proportion between the old landing page and the new landing page.\n",
    "\n",
    "Null Hypothesis\n",
    "\n",
    "$H_{0}$: $p_{1}$ = $p_{2}$, The conversion rate proportion for the new landing page is equal to conversion rate porportion for the old landing page.\n",
    "\n",
    "Alternative Hypothesis\n",
    "\n",
    "$H_{a}$: $p_{1}$ > $p_{2}$, The conversion rate proportion for the new landing page is greater than the conversion rate proportion for the old landing page."
   ]
  },
  {
   "cell_type": "markdown",
   "id": "efc4d57e",
   "metadata": {},
   "source": [
    "### Step 2: Select Appropriate test\n",
    "\n",
    "The two samples are from two independent populations, both samples were randomly selected, and the outcome (number of conversions) for both samples are discreet values. The formulated hypotheses are concerned with proportions (how many visitors became subscribers and how many didn't). A two proportion z-test can be used to analyse the hypotheses and draw a conclusion."
   ]
  },
  {
   "cell_type": "markdown",
   "id": "5761c1da",
   "metadata": {},
   "source": [
    "### Step 3: Decide the significance level\n",
    "\n",
    "Significance level is $\\alpha$ = 0.05"
   ]
  },
  {
   "cell_type": "markdown",
   "id": "10f55418",
   "metadata": {},
   "source": [
    "### Step 4: Collect and prepare data"
   ]
  },
  {
   "cell_type": "code",
   "execution_count": 30,
   "id": "fd1914e8",
   "metadata": {},
   "outputs": [
    {
     "data": {
      "text/html": [
       "<div>\n",
       "<style scoped>\n",
       "    .dataframe tbody tr th:only-of-type {\n",
       "        vertical-align: middle;\n",
       "    }\n",
       "\n",
       "    .dataframe tbody tr th {\n",
       "        vertical-align: top;\n",
       "    }\n",
       "\n",
       "    .dataframe thead th {\n",
       "        text-align: right;\n",
       "    }\n",
       "</style>\n",
       "<table border=\"1\" class=\"dataframe\">\n",
       "  <thead>\n",
       "    <tr style=\"text-align: right;\">\n",
       "      <th></th>\n",
       "      <th>user_id</th>\n",
       "      <th>group</th>\n",
       "      <th>landing_page</th>\n",
       "      <th>time_spent_on_the_page</th>\n",
       "      <th>converted</th>\n",
       "      <th>language_preferred</th>\n",
       "    </tr>\n",
       "  </thead>\n",
       "  <tbody>\n",
       "    <tr>\n",
       "      <th>1</th>\n",
       "      <td>546468</td>\n",
       "      <td>treatment</td>\n",
       "      <td>new</td>\n",
       "      <td>7.13</td>\n",
       "      <td>yes</td>\n",
       "      <td>English</td>\n",
       "    </tr>\n",
       "    <tr>\n",
       "      <th>2</th>\n",
       "      <td>546462</td>\n",
       "      <td>treatment</td>\n",
       "      <td>new</td>\n",
       "      <td>4.40</td>\n",
       "      <td>no</td>\n",
       "      <td>Spanish</td>\n",
       "    </tr>\n",
       "    <tr>\n",
       "      <th>4</th>\n",
       "      <td>546459</td>\n",
       "      <td>treatment</td>\n",
       "      <td>new</td>\n",
       "      <td>4.75</td>\n",
       "      <td>yes</td>\n",
       "      <td>Spanish</td>\n",
       "    </tr>\n",
       "    <tr>\n",
       "      <th>6</th>\n",
       "      <td>546448</td>\n",
       "      <td>treatment</td>\n",
       "      <td>new</td>\n",
       "      <td>5.25</td>\n",
       "      <td>yes</td>\n",
       "      <td>French</td>\n",
       "    </tr>\n",
       "    <tr>\n",
       "      <th>8</th>\n",
       "      <td>546461</td>\n",
       "      <td>treatment</td>\n",
       "      <td>new</td>\n",
       "      <td>10.71</td>\n",
       "      <td>yes</td>\n",
       "      <td>French</td>\n",
       "    </tr>\n",
       "    <tr>\n",
       "      <th>12</th>\n",
       "      <td>546491</td>\n",
       "      <td>treatment</td>\n",
       "      <td>new</td>\n",
       "      <td>5.86</td>\n",
       "      <td>yes</td>\n",
       "      <td>Spanish</td>\n",
       "    </tr>\n",
       "    <tr>\n",
       "      <th>13</th>\n",
       "      <td>546478</td>\n",
       "      <td>treatment</td>\n",
       "      <td>new</td>\n",
       "      <td>6.03</td>\n",
       "      <td>yes</td>\n",
       "      <td>French</td>\n",
       "    </tr>\n",
       "    <tr>\n",
       "      <th>15</th>\n",
       "      <td>546466</td>\n",
       "      <td>treatment</td>\n",
       "      <td>new</td>\n",
       "      <td>6.27</td>\n",
       "      <td>yes</td>\n",
       "      <td>Spanish</td>\n",
       "    </tr>\n",
       "    <tr>\n",
       "      <th>16</th>\n",
       "      <td>546443</td>\n",
       "      <td>treatment</td>\n",
       "      <td>new</td>\n",
       "      <td>8.73</td>\n",
       "      <td>no</td>\n",
       "      <td>English</td>\n",
       "    </tr>\n",
       "    <tr>\n",
       "      <th>22</th>\n",
       "      <td>546450</td>\n",
       "      <td>treatment</td>\n",
       "      <td>new</td>\n",
       "      <td>3.65</td>\n",
       "      <td>no</td>\n",
       "      <td>English</td>\n",
       "    </tr>\n",
       "    <tr>\n",
       "      <th>23</th>\n",
       "      <td>546475</td>\n",
       "      <td>treatment</td>\n",
       "      <td>new</td>\n",
       "      <td>7.02</td>\n",
       "      <td>yes</td>\n",
       "      <td>English</td>\n",
       "    </tr>\n",
       "    <tr>\n",
       "      <th>24</th>\n",
       "      <td>546456</td>\n",
       "      <td>treatment</td>\n",
       "      <td>new</td>\n",
       "      <td>6.18</td>\n",
       "      <td>no</td>\n",
       "      <td>Spanish</td>\n",
       "    </tr>\n",
       "    <tr>\n",
       "      <th>25</th>\n",
       "      <td>546455</td>\n",
       "      <td>treatment</td>\n",
       "      <td>new</td>\n",
       "      <td>4.39</td>\n",
       "      <td>no</td>\n",
       "      <td>English</td>\n",
       "    </tr>\n",
       "    <tr>\n",
       "      <th>26</th>\n",
       "      <td>546469</td>\n",
       "      <td>treatment</td>\n",
       "      <td>new</td>\n",
       "      <td>9.49</td>\n",
       "      <td>yes</td>\n",
       "      <td>English</td>\n",
       "    </tr>\n",
       "    <tr>\n",
       "      <th>28</th>\n",
       "      <td>546471</td>\n",
       "      <td>treatment</td>\n",
       "      <td>new</td>\n",
       "      <td>7.81</td>\n",
       "      <td>yes</td>\n",
       "      <td>French</td>\n",
       "    </tr>\n",
       "    <tr>\n",
       "      <th>30</th>\n",
       "      <td>546464</td>\n",
       "      <td>treatment</td>\n",
       "      <td>new</td>\n",
       "      <td>5.41</td>\n",
       "      <td>yes</td>\n",
       "      <td>English</td>\n",
       "    </tr>\n",
       "    <tr>\n",
       "      <th>38</th>\n",
       "      <td>546487</td>\n",
       "      <td>treatment</td>\n",
       "      <td>new</td>\n",
       "      <td>1.65</td>\n",
       "      <td>no</td>\n",
       "      <td>Spanish</td>\n",
       "    </tr>\n",
       "    <tr>\n",
       "      <th>42</th>\n",
       "      <td>546489</td>\n",
       "      <td>treatment</td>\n",
       "      <td>new</td>\n",
       "      <td>7.16</td>\n",
       "      <td>yes</td>\n",
       "      <td>Spanish</td>\n",
       "    </tr>\n",
       "    <tr>\n",
       "      <th>43</th>\n",
       "      <td>546453</td>\n",
       "      <td>treatment</td>\n",
       "      <td>new</td>\n",
       "      <td>7.16</td>\n",
       "      <td>yes</td>\n",
       "      <td>English</td>\n",
       "    </tr>\n",
       "    <tr>\n",
       "      <th>44</th>\n",
       "      <td>546488</td>\n",
       "      <td>treatment</td>\n",
       "      <td>new</td>\n",
       "      <td>3.91</td>\n",
       "      <td>no</td>\n",
       "      <td>English</td>\n",
       "    </tr>\n",
       "    <tr>\n",
       "      <th>46</th>\n",
       "      <td>546460</td>\n",
       "      <td>treatment</td>\n",
       "      <td>new</td>\n",
       "      <td>5.37</td>\n",
       "      <td>yes</td>\n",
       "      <td>French</td>\n",
       "    </tr>\n",
       "    <tr>\n",
       "      <th>47</th>\n",
       "      <td>546458</td>\n",
       "      <td>treatment</td>\n",
       "      <td>new</td>\n",
       "      <td>7.23</td>\n",
       "      <td>yes</td>\n",
       "      <td>Spanish</td>\n",
       "    </tr>\n",
       "    <tr>\n",
       "      <th>48</th>\n",
       "      <td>546492</td>\n",
       "      <td>treatment</td>\n",
       "      <td>new</td>\n",
       "      <td>8.08</td>\n",
       "      <td>yes</td>\n",
       "      <td>Spanish</td>\n",
       "    </tr>\n",
       "    <tr>\n",
       "      <th>49</th>\n",
       "      <td>546473</td>\n",
       "      <td>treatment</td>\n",
       "      <td>new</td>\n",
       "      <td>10.50</td>\n",
       "      <td>yes</td>\n",
       "      <td>English</td>\n",
       "    </tr>\n",
       "    <tr>\n",
       "      <th>51</th>\n",
       "      <td>546457</td>\n",
       "      <td>treatment</td>\n",
       "      <td>new</td>\n",
       "      <td>5.65</td>\n",
       "      <td>no</td>\n",
       "      <td>English</td>\n",
       "    </tr>\n",
       "    <tr>\n",
       "      <th>52</th>\n",
       "      <td>546479</td>\n",
       "      <td>treatment</td>\n",
       "      <td>new</td>\n",
       "      <td>6.47</td>\n",
       "      <td>yes</td>\n",
       "      <td>Spanish</td>\n",
       "    </tr>\n",
       "    <tr>\n",
       "      <th>54</th>\n",
       "      <td>546482</td>\n",
       "      <td>treatment</td>\n",
       "      <td>new</td>\n",
       "      <td>6.41</td>\n",
       "      <td>yes</td>\n",
       "      <td>Spanish</td>\n",
       "    </tr>\n",
       "    <tr>\n",
       "      <th>57</th>\n",
       "      <td>546454</td>\n",
       "      <td>treatment</td>\n",
       "      <td>new</td>\n",
       "      <td>8.30</td>\n",
       "      <td>yes</td>\n",
       "      <td>French</td>\n",
       "    </tr>\n",
       "    <tr>\n",
       "      <th>60</th>\n",
       "      <td>546470</td>\n",
       "      <td>treatment</td>\n",
       "      <td>new</td>\n",
       "      <td>6.01</td>\n",
       "      <td>yes</td>\n",
       "      <td>French</td>\n",
       "    </tr>\n",
       "    <tr>\n",
       "      <th>61</th>\n",
       "      <td>546467</td>\n",
       "      <td>treatment</td>\n",
       "      <td>new</td>\n",
       "      <td>6.79</td>\n",
       "      <td>yes</td>\n",
       "      <td>French</td>\n",
       "    </tr>\n",
       "    <tr>\n",
       "      <th>65</th>\n",
       "      <td>546445</td>\n",
       "      <td>treatment</td>\n",
       "      <td>new</td>\n",
       "      <td>7.27</td>\n",
       "      <td>yes</td>\n",
       "      <td>French</td>\n",
       "    </tr>\n",
       "    <tr>\n",
       "      <th>68</th>\n",
       "      <td>546484</td>\n",
       "      <td>treatment</td>\n",
       "      <td>new</td>\n",
       "      <td>6.70</td>\n",
       "      <td>no</td>\n",
       "      <td>Spanish</td>\n",
       "    </tr>\n",
       "    <tr>\n",
       "      <th>71</th>\n",
       "      <td>546476</td>\n",
       "      <td>treatment</td>\n",
       "      <td>new</td>\n",
       "      <td>5.42</td>\n",
       "      <td>yes</td>\n",
       "      <td>French</td>\n",
       "    </tr>\n",
       "    <tr>\n",
       "      <th>72</th>\n",
       "      <td>546452</td>\n",
       "      <td>treatment</td>\n",
       "      <td>new</td>\n",
       "      <td>5.08</td>\n",
       "      <td>yes</td>\n",
       "      <td>English</td>\n",
       "    </tr>\n",
       "    <tr>\n",
       "      <th>73</th>\n",
       "      <td>546444</td>\n",
       "      <td>treatment</td>\n",
       "      <td>new</td>\n",
       "      <td>7.46</td>\n",
       "      <td>yes</td>\n",
       "      <td>English</td>\n",
       "    </tr>\n",
       "    <tr>\n",
       "      <th>77</th>\n",
       "      <td>546485</td>\n",
       "      <td>treatment</td>\n",
       "      <td>new</td>\n",
       "      <td>3.88</td>\n",
       "      <td>no</td>\n",
       "      <td>Spanish</td>\n",
       "    </tr>\n",
       "    <tr>\n",
       "      <th>78</th>\n",
       "      <td>546486</td>\n",
       "      <td>treatment</td>\n",
       "      <td>new</td>\n",
       "      <td>9.12</td>\n",
       "      <td>yes</td>\n",
       "      <td>French</td>\n",
       "    </tr>\n",
       "    <tr>\n",
       "      <th>80</th>\n",
       "      <td>546490</td>\n",
       "      <td>treatment</td>\n",
       "      <td>new</td>\n",
       "      <td>4.68</td>\n",
       "      <td>no</td>\n",
       "      <td>French</td>\n",
       "    </tr>\n",
       "    <tr>\n",
       "      <th>81</th>\n",
       "      <td>546449</td>\n",
       "      <td>treatment</td>\n",
       "      <td>new</td>\n",
       "      <td>5.26</td>\n",
       "      <td>yes</td>\n",
       "      <td>French</td>\n",
       "    </tr>\n",
       "    <tr>\n",
       "      <th>82</th>\n",
       "      <td>546463</td>\n",
       "      <td>treatment</td>\n",
       "      <td>new</td>\n",
       "      <td>5.74</td>\n",
       "      <td>yes</td>\n",
       "      <td>Spanish</td>\n",
       "    </tr>\n",
       "    <tr>\n",
       "      <th>86</th>\n",
       "      <td>546465</td>\n",
       "      <td>treatment</td>\n",
       "      <td>new</td>\n",
       "      <td>6.71</td>\n",
       "      <td>no</td>\n",
       "      <td>English</td>\n",
       "    </tr>\n",
       "    <tr>\n",
       "      <th>87</th>\n",
       "      <td>546480</td>\n",
       "      <td>treatment</td>\n",
       "      <td>new</td>\n",
       "      <td>3.68</td>\n",
       "      <td>no</td>\n",
       "      <td>French</td>\n",
       "    </tr>\n",
       "    <tr>\n",
       "      <th>88</th>\n",
       "      <td>546447</td>\n",
       "      <td>treatment</td>\n",
       "      <td>new</td>\n",
       "      <td>3.30</td>\n",
       "      <td>no</td>\n",
       "      <td>French</td>\n",
       "    </tr>\n",
       "    <tr>\n",
       "      <th>90</th>\n",
       "      <td>546477</td>\n",
       "      <td>treatment</td>\n",
       "      <td>new</td>\n",
       "      <td>5.40</td>\n",
       "      <td>no</td>\n",
       "      <td>French</td>\n",
       "    </tr>\n",
       "    <tr>\n",
       "      <th>91</th>\n",
       "      <td>546451</td>\n",
       "      <td>treatment</td>\n",
       "      <td>new</td>\n",
       "      <td>8.47</td>\n",
       "      <td>yes</td>\n",
       "      <td>English</td>\n",
       "    </tr>\n",
       "    <tr>\n",
       "      <th>93</th>\n",
       "      <td>546474</td>\n",
       "      <td>treatment</td>\n",
       "      <td>new</td>\n",
       "      <td>4.94</td>\n",
       "      <td>no</td>\n",
       "      <td>French</td>\n",
       "    </tr>\n",
       "    <tr>\n",
       "      <th>95</th>\n",
       "      <td>546446</td>\n",
       "      <td>treatment</td>\n",
       "      <td>new</td>\n",
       "      <td>5.15</td>\n",
       "      <td>no</td>\n",
       "      <td>Spanish</td>\n",
       "    </tr>\n",
       "    <tr>\n",
       "      <th>97</th>\n",
       "      <td>546472</td>\n",
       "      <td>treatment</td>\n",
       "      <td>new</td>\n",
       "      <td>7.07</td>\n",
       "      <td>yes</td>\n",
       "      <td>Spanish</td>\n",
       "    </tr>\n",
       "    <tr>\n",
       "      <th>98</th>\n",
       "      <td>546481</td>\n",
       "      <td>treatment</td>\n",
       "      <td>new</td>\n",
       "      <td>6.20</td>\n",
       "      <td>yes</td>\n",
       "      <td>Spanish</td>\n",
       "    </tr>\n",
       "    <tr>\n",
       "      <th>99</th>\n",
       "      <td>546483</td>\n",
       "      <td>treatment</td>\n",
       "      <td>new</td>\n",
       "      <td>5.86</td>\n",
       "      <td>yes</td>\n",
       "      <td>English</td>\n",
       "    </tr>\n",
       "  </tbody>\n",
       "</table>\n",
       "</div>"
      ],
      "text/plain": [
       "    user_id      group landing_page  time_spent_on_the_page converted  \\\n",
       "1    546468  treatment          new                    7.13       yes   \n",
       "2    546462  treatment          new                    4.40        no   \n",
       "4    546459  treatment          new                    4.75       yes   \n",
       "6    546448  treatment          new                    5.25       yes   \n",
       "8    546461  treatment          new                   10.71       yes   \n",
       "12   546491  treatment          new                    5.86       yes   \n",
       "13   546478  treatment          new                    6.03       yes   \n",
       "15   546466  treatment          new                    6.27       yes   \n",
       "16   546443  treatment          new                    8.73        no   \n",
       "22   546450  treatment          new                    3.65        no   \n",
       "23   546475  treatment          new                    7.02       yes   \n",
       "24   546456  treatment          new                    6.18        no   \n",
       "25   546455  treatment          new                    4.39        no   \n",
       "26   546469  treatment          new                    9.49       yes   \n",
       "28   546471  treatment          new                    7.81       yes   \n",
       "30   546464  treatment          new                    5.41       yes   \n",
       "38   546487  treatment          new                    1.65        no   \n",
       "42   546489  treatment          new                    7.16       yes   \n",
       "43   546453  treatment          new                    7.16       yes   \n",
       "44   546488  treatment          new                    3.91        no   \n",
       "46   546460  treatment          new                    5.37       yes   \n",
       "47   546458  treatment          new                    7.23       yes   \n",
       "48   546492  treatment          new                    8.08       yes   \n",
       "49   546473  treatment          new                   10.50       yes   \n",
       "51   546457  treatment          new                    5.65        no   \n",
       "52   546479  treatment          new                    6.47       yes   \n",
       "54   546482  treatment          new                    6.41       yes   \n",
       "57   546454  treatment          new                    8.30       yes   \n",
       "60   546470  treatment          new                    6.01       yes   \n",
       "61   546467  treatment          new                    6.79       yes   \n",
       "65   546445  treatment          new                    7.27       yes   \n",
       "68   546484  treatment          new                    6.70        no   \n",
       "71   546476  treatment          new                    5.42       yes   \n",
       "72   546452  treatment          new                    5.08       yes   \n",
       "73   546444  treatment          new                    7.46       yes   \n",
       "77   546485  treatment          new                    3.88        no   \n",
       "78   546486  treatment          new                    9.12       yes   \n",
       "80   546490  treatment          new                    4.68        no   \n",
       "81   546449  treatment          new                    5.26       yes   \n",
       "82   546463  treatment          new                    5.74       yes   \n",
       "86   546465  treatment          new                    6.71        no   \n",
       "87   546480  treatment          new                    3.68        no   \n",
       "88   546447  treatment          new                    3.30        no   \n",
       "90   546477  treatment          new                    5.40        no   \n",
       "91   546451  treatment          new                    8.47       yes   \n",
       "93   546474  treatment          new                    4.94        no   \n",
       "95   546446  treatment          new                    5.15        no   \n",
       "97   546472  treatment          new                    7.07       yes   \n",
       "98   546481  treatment          new                    6.20       yes   \n",
       "99   546483  treatment          new                    5.86       yes   \n",
       "\n",
       "   language_preferred  \n",
       "1             English  \n",
       "2             Spanish  \n",
       "4             Spanish  \n",
       "6              French  \n",
       "8              French  \n",
       "12            Spanish  \n",
       "13             French  \n",
       "15            Spanish  \n",
       "16            English  \n",
       "22            English  \n",
       "23            English  \n",
       "24            Spanish  \n",
       "25            English  \n",
       "26            English  \n",
       "28             French  \n",
       "30            English  \n",
       "38            Spanish  \n",
       "42            Spanish  \n",
       "43            English  \n",
       "44            English  \n",
       "46             French  \n",
       "47            Spanish  \n",
       "48            Spanish  \n",
       "49            English  \n",
       "51            English  \n",
       "52            Spanish  \n",
       "54            Spanish  \n",
       "57             French  \n",
       "60             French  \n",
       "61             French  \n",
       "65             French  \n",
       "68            Spanish  \n",
       "71             French  \n",
       "72            English  \n",
       "73            English  \n",
       "77            Spanish  \n",
       "78             French  \n",
       "80             French  \n",
       "81             French  \n",
       "82            Spanish  \n",
       "86            English  \n",
       "87             French  \n",
       "88             French  \n",
       "90             French  \n",
       "91            English  \n",
       "93             French  \n",
       "95            Spanish  \n",
       "97            Spanish  \n",
       "98            Spanish  \n",
       "99            English  "
      ]
     },
     "execution_count": 30,
     "metadata": {},
     "output_type": "execute_result"
    }
   ],
   "source": [
    "#Subsetting the data into two dataframes, one for treatment (new landing page), and one for control (old landing page)\n",
    "\n",
    "#treatment dataframe\n",
    "treatment = df.loc[df[\"group\"] == \"treatment\"]\n",
    "treatment"
   ]
  },
  {
   "cell_type": "code",
   "execution_count": 31,
   "id": "5bf5be35",
   "metadata": {},
   "outputs": [
    {
     "data": {
      "text/html": [
       "<div>\n",
       "<style scoped>\n",
       "    .dataframe tbody tr th:only-of-type {\n",
       "        vertical-align: middle;\n",
       "    }\n",
       "\n",
       "    .dataframe tbody tr th {\n",
       "        vertical-align: top;\n",
       "    }\n",
       "\n",
       "    .dataframe thead th {\n",
       "        text-align: right;\n",
       "    }\n",
       "</style>\n",
       "<table border=\"1\" class=\"dataframe\">\n",
       "  <thead>\n",
       "    <tr style=\"text-align: right;\">\n",
       "      <th></th>\n",
       "      <th>user_id</th>\n",
       "      <th>group</th>\n",
       "      <th>landing_page</th>\n",
       "      <th>time_spent_on_the_page</th>\n",
       "      <th>converted</th>\n",
       "      <th>language_preferred</th>\n",
       "    </tr>\n",
       "  </thead>\n",
       "  <tbody>\n",
       "    <tr>\n",
       "      <th>0</th>\n",
       "      <td>546592</td>\n",
       "      <td>control</td>\n",
       "      <td>old</td>\n",
       "      <td>3.48</td>\n",
       "      <td>no</td>\n",
       "      <td>Spanish</td>\n",
       "    </tr>\n",
       "    <tr>\n",
       "      <th>3</th>\n",
       "      <td>546567</td>\n",
       "      <td>control</td>\n",
       "      <td>old</td>\n",
       "      <td>3.02</td>\n",
       "      <td>no</td>\n",
       "      <td>French</td>\n",
       "    </tr>\n",
       "    <tr>\n",
       "      <th>5</th>\n",
       "      <td>546558</td>\n",
       "      <td>control</td>\n",
       "      <td>old</td>\n",
       "      <td>5.28</td>\n",
       "      <td>yes</td>\n",
       "      <td>English</td>\n",
       "    </tr>\n",
       "    <tr>\n",
       "      <th>7</th>\n",
       "      <td>546581</td>\n",
       "      <td>control</td>\n",
       "      <td>old</td>\n",
       "      <td>6.53</td>\n",
       "      <td>yes</td>\n",
       "      <td>Spanish</td>\n",
       "    </tr>\n",
       "    <tr>\n",
       "      <th>9</th>\n",
       "      <td>546548</td>\n",
       "      <td>control</td>\n",
       "      <td>old</td>\n",
       "      <td>2.08</td>\n",
       "      <td>no</td>\n",
       "      <td>English</td>\n",
       "    </tr>\n",
       "    <tr>\n",
       "      <th>10</th>\n",
       "      <td>546588</td>\n",
       "      <td>control</td>\n",
       "      <td>old</td>\n",
       "      <td>6.21</td>\n",
       "      <td>yes</td>\n",
       "      <td>Spanish</td>\n",
       "    </tr>\n",
       "    <tr>\n",
       "      <th>11</th>\n",
       "      <td>546546</td>\n",
       "      <td>control</td>\n",
       "      <td>old</td>\n",
       "      <td>2.58</td>\n",
       "      <td>yes</td>\n",
       "      <td>English</td>\n",
       "    </tr>\n",
       "    <tr>\n",
       "      <th>14</th>\n",
       "      <td>546578</td>\n",
       "      <td>control</td>\n",
       "      <td>old</td>\n",
       "      <td>8.72</td>\n",
       "      <td>yes</td>\n",
       "      <td>Spanish</td>\n",
       "    </tr>\n",
       "    <tr>\n",
       "      <th>17</th>\n",
       "      <td>546555</td>\n",
       "      <td>control</td>\n",
       "      <td>old</td>\n",
       "      <td>0.40</td>\n",
       "      <td>no</td>\n",
       "      <td>English</td>\n",
       "    </tr>\n",
       "    <tr>\n",
       "      <th>18</th>\n",
       "      <td>546493</td>\n",
       "      <td>control</td>\n",
       "      <td>old</td>\n",
       "      <td>10.30</td>\n",
       "      <td>yes</td>\n",
       "      <td>English</td>\n",
       "    </tr>\n",
       "    <tr>\n",
       "      <th>19</th>\n",
       "      <td>546549</td>\n",
       "      <td>control</td>\n",
       "      <td>old</td>\n",
       "      <td>3.88</td>\n",
       "      <td>yes</td>\n",
       "      <td>English</td>\n",
       "    </tr>\n",
       "    <tr>\n",
       "      <th>20</th>\n",
       "      <td>546560</td>\n",
       "      <td>control</td>\n",
       "      <td>old</td>\n",
       "      <td>2.66</td>\n",
       "      <td>no</td>\n",
       "      <td>French</td>\n",
       "    </tr>\n",
       "    <tr>\n",
       "      <th>21</th>\n",
       "      <td>546584</td>\n",
       "      <td>control</td>\n",
       "      <td>old</td>\n",
       "      <td>7.03</td>\n",
       "      <td>yes</td>\n",
       "      <td>Spanish</td>\n",
       "    </tr>\n",
       "    <tr>\n",
       "      <th>27</th>\n",
       "      <td>546586</td>\n",
       "      <td>control</td>\n",
       "      <td>old</td>\n",
       "      <td>4.05</td>\n",
       "      <td>no</td>\n",
       "      <td>Spanish</td>\n",
       "    </tr>\n",
       "    <tr>\n",
       "      <th>29</th>\n",
       "      <td>546575</td>\n",
       "      <td>control</td>\n",
       "      <td>old</td>\n",
       "      <td>4.28</td>\n",
       "      <td>no</td>\n",
       "      <td>French</td>\n",
       "    </tr>\n",
       "    <tr>\n",
       "      <th>31</th>\n",
       "      <td>546556</td>\n",
       "      <td>control</td>\n",
       "      <td>old</td>\n",
       "      <td>3.52</td>\n",
       "      <td>yes</td>\n",
       "      <td>English</td>\n",
       "    </tr>\n",
       "    <tr>\n",
       "      <th>32</th>\n",
       "      <td>546585</td>\n",
       "      <td>control</td>\n",
       "      <td>old</td>\n",
       "      <td>5.39</td>\n",
       "      <td>yes</td>\n",
       "      <td>Spanish</td>\n",
       "    </tr>\n",
       "    <tr>\n",
       "      <th>33</th>\n",
       "      <td>546577</td>\n",
       "      <td>control</td>\n",
       "      <td>old</td>\n",
       "      <td>4.52</td>\n",
       "      <td>no</td>\n",
       "      <td>Spanish</td>\n",
       "    </tr>\n",
       "    <tr>\n",
       "      <th>34</th>\n",
       "      <td>546587</td>\n",
       "      <td>control</td>\n",
       "      <td>old</td>\n",
       "      <td>4.46</td>\n",
       "      <td>no</td>\n",
       "      <td>Spanish</td>\n",
       "    </tr>\n",
       "    <tr>\n",
       "      <th>35</th>\n",
       "      <td>546552</td>\n",
       "      <td>control</td>\n",
       "      <td>old</td>\n",
       "      <td>8.50</td>\n",
       "      <td>yes</td>\n",
       "      <td>English</td>\n",
       "    </tr>\n",
       "    <tr>\n",
       "      <th>36</th>\n",
       "      <td>546551</td>\n",
       "      <td>control</td>\n",
       "      <td>old</td>\n",
       "      <td>3.13</td>\n",
       "      <td>no</td>\n",
       "      <td>English</td>\n",
       "    </tr>\n",
       "    <tr>\n",
       "      <th>37</th>\n",
       "      <td>546557</td>\n",
       "      <td>control</td>\n",
       "      <td>old</td>\n",
       "      <td>6.04</td>\n",
       "      <td>yes</td>\n",
       "      <td>English</td>\n",
       "    </tr>\n",
       "    <tr>\n",
       "      <th>39</th>\n",
       "      <td>546589</td>\n",
       "      <td>control</td>\n",
       "      <td>old</td>\n",
       "      <td>0.19</td>\n",
       "      <td>no</td>\n",
       "      <td>Spanish</td>\n",
       "    </tr>\n",
       "    <tr>\n",
       "      <th>40</th>\n",
       "      <td>546559</td>\n",
       "      <td>control</td>\n",
       "      <td>old</td>\n",
       "      <td>8.46</td>\n",
       "      <td>yes</td>\n",
       "      <td>French</td>\n",
       "    </tr>\n",
       "    <tr>\n",
       "      <th>41</th>\n",
       "      <td>546570</td>\n",
       "      <td>control</td>\n",
       "      <td>old</td>\n",
       "      <td>1.92</td>\n",
       "      <td>no</td>\n",
       "      <td>French</td>\n",
       "    </tr>\n",
       "    <tr>\n",
       "      <th>45</th>\n",
       "      <td>546565</td>\n",
       "      <td>control</td>\n",
       "      <td>old</td>\n",
       "      <td>8.02</td>\n",
       "      <td>no</td>\n",
       "      <td>French</td>\n",
       "    </tr>\n",
       "    <tr>\n",
       "      <th>50</th>\n",
       "      <td>546554</td>\n",
       "      <td>control</td>\n",
       "      <td>old</td>\n",
       "      <td>0.22</td>\n",
       "      <td>no</td>\n",
       "      <td>English</td>\n",
       "    </tr>\n",
       "    <tr>\n",
       "      <th>53</th>\n",
       "      <td>546576</td>\n",
       "      <td>control</td>\n",
       "      <td>old</td>\n",
       "      <td>4.71</td>\n",
       "      <td>no</td>\n",
       "      <td>Spanish</td>\n",
       "    </tr>\n",
       "    <tr>\n",
       "      <th>55</th>\n",
       "      <td>546563</td>\n",
       "      <td>control</td>\n",
       "      <td>old</td>\n",
       "      <td>0.93</td>\n",
       "      <td>no</td>\n",
       "      <td>French</td>\n",
       "    </tr>\n",
       "    <tr>\n",
       "      <th>56</th>\n",
       "      <td>546569</td>\n",
       "      <td>control</td>\n",
       "      <td>old</td>\n",
       "      <td>1.81</td>\n",
       "      <td>no</td>\n",
       "      <td>French</td>\n",
       "    </tr>\n",
       "    <tr>\n",
       "      <th>58</th>\n",
       "      <td>546562</td>\n",
       "      <td>control</td>\n",
       "      <td>old</td>\n",
       "      <td>7.40</td>\n",
       "      <td>yes</td>\n",
       "      <td>French</td>\n",
       "    </tr>\n",
       "    <tr>\n",
       "      <th>59</th>\n",
       "      <td>546574</td>\n",
       "      <td>control</td>\n",
       "      <td>old</td>\n",
       "      <td>9.15</td>\n",
       "      <td>no</td>\n",
       "      <td>French</td>\n",
       "    </tr>\n",
       "    <tr>\n",
       "      <th>62</th>\n",
       "      <td>546572</td>\n",
       "      <td>control</td>\n",
       "      <td>old</td>\n",
       "      <td>4.18</td>\n",
       "      <td>no</td>\n",
       "      <td>French</td>\n",
       "    </tr>\n",
       "    <tr>\n",
       "      <th>63</th>\n",
       "      <td>546590</td>\n",
       "      <td>control</td>\n",
       "      <td>old</td>\n",
       "      <td>5.47</td>\n",
       "      <td>no</td>\n",
       "      <td>Spanish</td>\n",
       "    </tr>\n",
       "    <tr>\n",
       "      <th>64</th>\n",
       "      <td>546553</td>\n",
       "      <td>control</td>\n",
       "      <td>old</td>\n",
       "      <td>5.96</td>\n",
       "      <td>yes</td>\n",
       "      <td>English</td>\n",
       "    </tr>\n",
       "    <tr>\n",
       "      <th>66</th>\n",
       "      <td>546545</td>\n",
       "      <td>control</td>\n",
       "      <td>old</td>\n",
       "      <td>6.60</td>\n",
       "      <td>yes</td>\n",
       "      <td>English</td>\n",
       "    </tr>\n",
       "    <tr>\n",
       "      <th>67</th>\n",
       "      <td>546582</td>\n",
       "      <td>control</td>\n",
       "      <td>old</td>\n",
       "      <td>4.75</td>\n",
       "      <td>yes</td>\n",
       "      <td>Spanish</td>\n",
       "    </tr>\n",
       "    <tr>\n",
       "      <th>69</th>\n",
       "      <td>546579</td>\n",
       "      <td>control</td>\n",
       "      <td>old</td>\n",
       "      <td>2.23</td>\n",
       "      <td>no</td>\n",
       "      <td>Spanish</td>\n",
       "    </tr>\n",
       "    <tr>\n",
       "      <th>70</th>\n",
       "      <td>546568</td>\n",
       "      <td>control</td>\n",
       "      <td>old</td>\n",
       "      <td>0.40</td>\n",
       "      <td>no</td>\n",
       "      <td>French</td>\n",
       "    </tr>\n",
       "    <tr>\n",
       "      <th>74</th>\n",
       "      <td>546591</td>\n",
       "      <td>control</td>\n",
       "      <td>old</td>\n",
       "      <td>4.87</td>\n",
       "      <td>no</td>\n",
       "      <td>Spanish</td>\n",
       "    </tr>\n",
       "    <tr>\n",
       "      <th>75</th>\n",
       "      <td>546583</td>\n",
       "      <td>control</td>\n",
       "      <td>old</td>\n",
       "      <td>6.57</td>\n",
       "      <td>yes</td>\n",
       "      <td>Spanish</td>\n",
       "    </tr>\n",
       "    <tr>\n",
       "      <th>76</th>\n",
       "      <td>546573</td>\n",
       "      <td>control</td>\n",
       "      <td>old</td>\n",
       "      <td>1.44</td>\n",
       "      <td>no</td>\n",
       "      <td>French</td>\n",
       "    </tr>\n",
       "    <tr>\n",
       "      <th>79</th>\n",
       "      <td>546547</td>\n",
       "      <td>control</td>\n",
       "      <td>old</td>\n",
       "      <td>3.21</td>\n",
       "      <td>yes</td>\n",
       "      <td>English</td>\n",
       "    </tr>\n",
       "    <tr>\n",
       "      <th>83</th>\n",
       "      <td>546580</td>\n",
       "      <td>control</td>\n",
       "      <td>old</td>\n",
       "      <td>2.90</td>\n",
       "      <td>no</td>\n",
       "      <td>Spanish</td>\n",
       "    </tr>\n",
       "    <tr>\n",
       "      <th>84</th>\n",
       "      <td>546571</td>\n",
       "      <td>control</td>\n",
       "      <td>old</td>\n",
       "      <td>4.30</td>\n",
       "      <td>no</td>\n",
       "      <td>French</td>\n",
       "    </tr>\n",
       "    <tr>\n",
       "      <th>85</th>\n",
       "      <td>546564</td>\n",
       "      <td>control</td>\n",
       "      <td>old</td>\n",
       "      <td>0.91</td>\n",
       "      <td>no</td>\n",
       "      <td>French</td>\n",
       "    </tr>\n",
       "    <tr>\n",
       "      <th>89</th>\n",
       "      <td>546561</td>\n",
       "      <td>control</td>\n",
       "      <td>old</td>\n",
       "      <td>6.04</td>\n",
       "      <td>yes</td>\n",
       "      <td>French</td>\n",
       "    </tr>\n",
       "    <tr>\n",
       "      <th>92</th>\n",
       "      <td>546566</td>\n",
       "      <td>control</td>\n",
       "      <td>old</td>\n",
       "      <td>8.35</td>\n",
       "      <td>no</td>\n",
       "      <td>French</td>\n",
       "    </tr>\n",
       "    <tr>\n",
       "      <th>94</th>\n",
       "      <td>546550</td>\n",
       "      <td>control</td>\n",
       "      <td>old</td>\n",
       "      <td>3.05</td>\n",
       "      <td>no</td>\n",
       "      <td>English</td>\n",
       "    </tr>\n",
       "    <tr>\n",
       "      <th>96</th>\n",
       "      <td>546544</td>\n",
       "      <td>control</td>\n",
       "      <td>old</td>\n",
       "      <td>6.52</td>\n",
       "      <td>yes</td>\n",
       "      <td>English</td>\n",
       "    </tr>\n",
       "  </tbody>\n",
       "</table>\n",
       "</div>"
      ],
      "text/plain": [
       "    user_id    group landing_page  time_spent_on_the_page converted  \\\n",
       "0    546592  control          old                    3.48        no   \n",
       "3    546567  control          old                    3.02        no   \n",
       "5    546558  control          old                    5.28       yes   \n",
       "7    546581  control          old                    6.53       yes   \n",
       "9    546548  control          old                    2.08        no   \n",
       "10   546588  control          old                    6.21       yes   \n",
       "11   546546  control          old                    2.58       yes   \n",
       "14   546578  control          old                    8.72       yes   \n",
       "17   546555  control          old                    0.40        no   \n",
       "18   546493  control          old                   10.30       yes   \n",
       "19   546549  control          old                    3.88       yes   \n",
       "20   546560  control          old                    2.66        no   \n",
       "21   546584  control          old                    7.03       yes   \n",
       "27   546586  control          old                    4.05        no   \n",
       "29   546575  control          old                    4.28        no   \n",
       "31   546556  control          old                    3.52       yes   \n",
       "32   546585  control          old                    5.39       yes   \n",
       "33   546577  control          old                    4.52        no   \n",
       "34   546587  control          old                    4.46        no   \n",
       "35   546552  control          old                    8.50       yes   \n",
       "36   546551  control          old                    3.13        no   \n",
       "37   546557  control          old                    6.04       yes   \n",
       "39   546589  control          old                    0.19        no   \n",
       "40   546559  control          old                    8.46       yes   \n",
       "41   546570  control          old                    1.92        no   \n",
       "45   546565  control          old                    8.02        no   \n",
       "50   546554  control          old                    0.22        no   \n",
       "53   546576  control          old                    4.71        no   \n",
       "55   546563  control          old                    0.93        no   \n",
       "56   546569  control          old                    1.81        no   \n",
       "58   546562  control          old                    7.40       yes   \n",
       "59   546574  control          old                    9.15        no   \n",
       "62   546572  control          old                    4.18        no   \n",
       "63   546590  control          old                    5.47        no   \n",
       "64   546553  control          old                    5.96       yes   \n",
       "66   546545  control          old                    6.60       yes   \n",
       "67   546582  control          old                    4.75       yes   \n",
       "69   546579  control          old                    2.23        no   \n",
       "70   546568  control          old                    0.40        no   \n",
       "74   546591  control          old                    4.87        no   \n",
       "75   546583  control          old                    6.57       yes   \n",
       "76   546573  control          old                    1.44        no   \n",
       "79   546547  control          old                    3.21       yes   \n",
       "83   546580  control          old                    2.90        no   \n",
       "84   546571  control          old                    4.30        no   \n",
       "85   546564  control          old                    0.91        no   \n",
       "89   546561  control          old                    6.04       yes   \n",
       "92   546566  control          old                    8.35        no   \n",
       "94   546550  control          old                    3.05        no   \n",
       "96   546544  control          old                    6.52       yes   \n",
       "\n",
       "   language_preferred  \n",
       "0             Spanish  \n",
       "3              French  \n",
       "5             English  \n",
       "7             Spanish  \n",
       "9             English  \n",
       "10            Spanish  \n",
       "11            English  \n",
       "14            Spanish  \n",
       "17            English  \n",
       "18            English  \n",
       "19            English  \n",
       "20             French  \n",
       "21            Spanish  \n",
       "27            Spanish  \n",
       "29             French  \n",
       "31            English  \n",
       "32            Spanish  \n",
       "33            Spanish  \n",
       "34            Spanish  \n",
       "35            English  \n",
       "36            English  \n",
       "37            English  \n",
       "39            Spanish  \n",
       "40             French  \n",
       "41             French  \n",
       "45             French  \n",
       "50            English  \n",
       "53            Spanish  \n",
       "55             French  \n",
       "56             French  \n",
       "58             French  \n",
       "59             French  \n",
       "62             French  \n",
       "63            Spanish  \n",
       "64            English  \n",
       "66            English  \n",
       "67            Spanish  \n",
       "69            Spanish  \n",
       "70             French  \n",
       "74            Spanish  \n",
       "75            Spanish  \n",
       "76             French  \n",
       "79            English  \n",
       "83            Spanish  \n",
       "84             French  \n",
       "85             French  \n",
       "89             French  \n",
       "92             French  \n",
       "94            English  \n",
       "96            English  "
      ]
     },
     "execution_count": 31,
     "metadata": {},
     "output_type": "execute_result"
    }
   ],
   "source": [
    "#control dataframe\n",
    "control = df.loc[df[\"group\"] == \"control\"]\n",
    "control"
   ]
  },
  {
   "cell_type": "code",
   "execution_count": 32,
   "id": "c93237f0",
   "metadata": {},
   "outputs": [
    {
     "name": "stdout",
     "output_type": "stream",
     "text": [
      "The number of participants in the treatment group is 50\n",
      "The number of participants in the control group is 50\n"
     ]
    }
   ],
   "source": [
    "#Confirming that the treatment group has 50 participants\n",
    "if treatment.shape[0] == 50:\n",
    "    print(\"The number of participants in the treatment group is 50\")\n",
    "else:\n",
    "    print(\"The number of participants in the control group is\" + str(treatment.shape[0]) + \", which is not 50\")\n",
    "\n",
    "#Confirming that the control group has 50 participants\n",
    "if control.shape[0] == 50:\n",
    "    print(\"The number of participants in the control group is 50\")\n",
    "else:\n",
    "    print(\"The number of participants in the control group is\" + str(control.shape[0]) + \", which is not 50\")"
   ]
  },
  {
   "cell_type": "code",
   "execution_count": 33,
   "id": "3463b542",
   "metadata": {},
   "outputs": [
    {
     "name": "stdout",
     "output_type": "stream",
     "text": [
      "The number of people that converted on the new landing page is: 33\n",
      "The number of people that converted on the old landing page is: 21\n",
      "The proportions of yes conversions in the treatment and control groups are 0.66, 0.42 respectively\n"
     ]
    }
   ],
   "source": [
    "#Filtering by converted for each dataframe\n",
    "#treatment\n",
    "treatment_yes = treatment.loc[treatment[\"converted\"] == \"yes\"]\n",
    "\n",
    "num_treatment_yes = treatment_yes.shape[0]\n",
    "print(\"The number of people that converted on the new landing page is:\", num_treatment_yes)\n",
    "\n",
    "#control\n",
    "control_yes = control.loc[control[\"converted\"] == \"yes\"]\n",
    "\n",
    "num_control_yes = control_yes.shape[0]\n",
    "print(\"The number of people that converted on the old landing page is:\", num_control_yes)\n",
    "\n",
    "#Calculating proportion of conversions for both control and treatment groups\n",
    "print(f\"The proportions of yes conversions in the treatment and control groups are {round(num_treatment_yes/treatment.shape[0], 2)}, {round(num_control_yes/control.shape[0], 2)} respectively\")"
   ]
  },
  {
   "cell_type": "markdown",
   "id": "f86ddf4c",
   "metadata": {},
   "source": [
    "### Step 5: Calculate the p-value"
   ]
  },
  {
   "cell_type": "code",
   "execution_count": 34,
   "id": "1e8e214d",
   "metadata": {},
   "outputs": [
    {
     "name": "stdout",
     "output_type": "stream",
     "text": [
      "The p-value is 0.00803\n"
     ]
    }
   ],
   "source": [
    "#Calculating p-value using two sample proportion z-test\n",
    "stat, p_value = proportions_ztest([num_treatment_yes, num_control_yes] , [treatment.shape[0],control.shape[0]], alternative = 'larger')\n",
    "print(\"The p-value is\", round(p_value, 5))"
   ]
  },
  {
   "cell_type": "markdown",
   "id": "b893eaa6",
   "metadata": {},
   "source": [
    "### Step 6: Compare the p-value with $\\alpha$"
   ]
  },
  {
   "cell_type": "code",
   "execution_count": 35,
   "id": "110dc1d0",
   "metadata": {},
   "outputs": [
    {
     "name": "stdout",
     "output_type": "stream",
     "text": [
      "The p-value is less than alpha, so the null hypothesis IS rejected.\n"
     ]
    }
   ],
   "source": [
    "#How does p_value compare to alpha?\n",
    "\n",
    "alpha = 0.05\n",
    "\n",
    "if p_value < alpha:\n",
    "    print(\"The p-value is less than alpha, so the null hypothesis IS rejected.\")\n",
    "else:\n",
    "    print(\"The p-value is greater than alpha, so the null hypothesis IS NOT rejected\")"
   ]
  },
  {
   "cell_type": "markdown",
   "id": "3bec076d",
   "metadata": {},
   "source": [
    "### Step 7:  Draw inference"
   ]
  },
  {
   "cell_type": "markdown",
   "id": "7b52ee5a",
   "metadata": {},
   "source": [
    "Since the p-value is below the significance level, we reject the null hypothesis. The result is statistically significant, and we have enough statistical evidence to say that the conversion rate proportion for the new landing page is greater than the conversion rate proportion for the old landing page. The count plot also shows that the new landing page performs better than the old landing page.\n",
    "\n",
    "Conclusion - The conversion rate proportion for the new landing page is greater than conversion rate proportion for the old landing page."
   ]
  },
  {
   "cell_type": "markdown",
   "id": "d49bfa2d",
   "metadata": {
    "id": "d49bfa2d"
   },
   "source": [
    "## 4. Is the conversion and preferred language are independent or related? (10 Marks)"
   ]
  },
  {
   "cell_type": "markdown",
   "id": "269a1649",
   "metadata": {},
   "source": [
    "### Perform Visual Analysis"
   ]
  },
  {
   "cell_type": "code",
   "execution_count": 36,
   "id": "595b1867",
   "metadata": {},
   "outputs": [
    {
     "data": {
      "text/plain": [
       "<seaborn.axisgrid.FacetGrid at 0x1fccd87b1f0>"
      ]
     },
     "execution_count": 36,
     "metadata": {},
     "output_type": "execute_result"
    },
    {
     "data": {
      "image/png": "[encoded data removed]",
      "text/plain": [
       "<Figure size 720x360 with 2 Axes>"
      ]
     },
     "metadata": {
      "needs_background": "light"
     },
     "output_type": "display_data"
    }
   ],
   "source": [
    "sns.catplot(x = \"landing_page\", y = \"language_preferred\", col = \"converted\", data = df)"
   ]
  },
  {
   "cell_type": "markdown",
   "id": "e7ae64a8",
   "metadata": {},
   "source": [
    "### Observations\n",
    "The catplot shows the number of people that did and did not convert on the old and new landing pages for each language (English, French, and Spanish). What's interesting is it appears that the English version of both landing pages has the most yes conversions, and the fewest no conversions, followed by the Spanish, and French landing pages (both old and new)."
   ]
  },
  {
   "cell_type": "markdown",
   "id": "0648b460",
   "metadata": {
    "id": "b0e63f17"
   },
   "source": [
    "### Step 1: Define the null and alternate hypotheses"
   ]
  },
  {
   "cell_type": "markdown",
   "id": "de595a7d",
   "metadata": {},
   "source": [
    "We want to know if converted status depends on the language the landing page was in.\n",
    "\n",
    "Null Hypothesis\n",
    "\n",
    "$H_{0}$: Conversion status is independent of the language the landing page is in.\n",
    "\n",
    "Alternative Hypothesis\n",
    "\n",
    "$H_{a}$: Conversion status is NOT independent of the language the landing page is in."
   ]
  },
  {
   "cell_type": "markdown",
   "id": "ff7ce42d",
   "metadata": {},
   "source": [
    "### Step 2: Select Appropriate test\n",
    "\n",
    "The formulated hypotheses can be tested using a Chi-square test of independence of attributes, concerning the two categorical variables, landing page (old/new) and language the landing page was displayed in (English/French/Spanish)."
   ]
  },
  {
   "cell_type": "markdown",
   "id": "e1b1248e",
   "metadata": {},
   "source": [
    "### Step 3: Decide the significance level\n",
    "\n",
    "Significance level is $\\alpha$ = 0.05"
   ]
  },
  {
   "cell_type": "markdown",
   "id": "d412e0ac",
   "metadata": {},
   "source": [
    "### Step 4: Collect and prepare data"
   ]
  },
  {
   "cell_type": "code",
   "execution_count": 37,
   "id": "fe6afc50",
   "metadata": {},
   "outputs": [
    {
     "data": {
      "text/html": [
       "<div>\n",
       "<style scoped>\n",
       "    .dataframe tbody tr th:only-of-type {\n",
       "        vertical-align: middle;\n",
       "    }\n",
       "\n",
       "    .dataframe tbody tr th {\n",
       "        vertical-align: top;\n",
       "    }\n",
       "\n",
       "    .dataframe thead th {\n",
       "        text-align: right;\n",
       "    }\n",
       "</style>\n",
       "<table border=\"1\" class=\"dataframe\">\n",
       "  <thead>\n",
       "    <tr style=\"text-align: right;\">\n",
       "      <th>language_preferred</th>\n",
       "      <th>English</th>\n",
       "      <th>French</th>\n",
       "      <th>Spanish</th>\n",
       "    </tr>\n",
       "    <tr>\n",
       "      <th>converted</th>\n",
       "      <th></th>\n",
       "      <th></th>\n",
       "      <th></th>\n",
       "    </tr>\n",
       "  </thead>\n",
       "  <tbody>\n",
       "    <tr>\n",
       "      <th>no</th>\n",
       "      <td>11</td>\n",
       "      <td>19</td>\n",
       "      <td>16</td>\n",
       "    </tr>\n",
       "    <tr>\n",
       "      <th>yes</th>\n",
       "      <td>21</td>\n",
       "      <td>15</td>\n",
       "      <td>18</td>\n",
       "    </tr>\n",
       "  </tbody>\n",
       "</table>\n",
       "</div>"
      ],
      "text/plain": [
       "language_preferred  English  French  Spanish\n",
       "converted                                   \n",
       "no                       11      19       16\n",
       "yes                      21      15       18"
      ]
     },
     "execution_count": 37,
     "metadata": {},
     "output_type": "execute_result"
    }
   ],
   "source": [
    "#Making a contingency table using crosstabs()\n",
    "cont_table = pd.crosstab(df.converted, df.language_preferred)\n",
    "cont_table"
   ]
  },
  {
   "cell_type": "markdown",
   "id": "0bb8dfa4",
   "metadata": {},
   "source": [
    "### Step 5: Calculate the p-value"
   ]
  },
  {
   "cell_type": "code",
   "execution_count": 38,
   "id": "07e9a822",
   "metadata": {},
   "outputs": [
    {
     "name": "stdout",
     "output_type": "stream",
     "text": [
      "The p-value is 0.21299\n"
     ]
    }
   ],
   "source": [
    "# use chi2_contingency() to find the p-value\n",
    "chi2, p_value, dof, exp_freq = chi2_contingency(cont_table)\n",
    "\n",
    "# print the p-value\n",
    "print(\"The p-value is\", round(p_value, 5))"
   ]
  },
  {
   "cell_type": "markdown",
   "id": "f3eb1abe",
   "metadata": {},
   "source": [
    "### Step 6: Compare the p-value with $\\alpha$"
   ]
  },
  {
   "cell_type": "code",
   "execution_count": 39,
   "id": "22a5759b",
   "metadata": {},
   "outputs": [
    {
     "name": "stdout",
     "output_type": "stream",
     "text": [
      "The p-value is greater than alpha, so the null hypothesis IS NOT rejected\n"
     ]
    }
   ],
   "source": [
    "#How does p_value compare to alpha?\n",
    "\n",
    "alpha = 0.05\n",
    "\n",
    "if p_value < alpha:\n",
    "    print(\"The p-value is less than alpha, so the null hypothesis IS rejected.\")\n",
    "else:\n",
    "    print(\"The p-value is greater than alpha, so the null hypothesis IS NOT rejected\")"
   ]
  },
  {
   "cell_type": "markdown",
   "id": "17265e16",
   "metadata": {},
   "source": [
    "### Step 7:  Draw inference"
   ]
  },
  {
   "cell_type": "markdown",
   "id": "92bc86cd",
   "metadata": {},
   "source": [
    "Since the p-value is above the significance level, we don't reject the null hypothesis. The result is not statistically significant, and we don't have enough statistical evidence to say the conversion rate is NOT independent for the language the landing page is displayed in. This suggests that right now, conversion status and language the page is displayed in are independent of each other.\n",
    "\n",
    "Conclusion - Conversion status is independent of the language the landing page is displayed in."
   ]
  },
  {
   "cell_type": "markdown",
   "id": "8d585a90",
   "metadata": {
    "id": "8d585a90"
   },
   "source": [
    "## 5. Is the mean time spent on the new page same for the different language users? (10 Marks)"
   ]
  },
  {
   "cell_type": "markdown",
   "id": "79adee50",
   "metadata": {},
   "source": [
    "### Perform Visual Analysis"
   ]
  },
  {
   "cell_type": "code",
   "execution_count": 40,
   "id": "eedc747c",
   "metadata": {},
   "outputs": [
    {
     "data": {
      "image/png": "[encoded data removed]",
      "text/plain": [
       "<Figure size 864x504 with 2 Axes>"
      ]
     },
     "metadata": {
      "needs_background": "light"
     },
     "output_type": "display_data"
    }
   ],
   "source": [
    "#English - Green triangle and dashed vertical line on boxplot and histogram represents mean\n",
    "histogram_boxplot(df.loc[df[\"language_preferred\"] == \"English\"], \"time_spent_on_the_page\")"
   ]
  },
  {
   "cell_type": "code",
   "execution_count": 41,
   "id": "db18157e",
   "metadata": {},
   "outputs": [
    {
     "data": {
      "image/png": "[encoded data removed]",
      "text/plain": [
       "<Figure size 864x504 with 2 Axes>"
      ]
     },
     "metadata": {
      "needs_background": "light"
     },
     "output_type": "display_data"
    }
   ],
   "source": [
    "#French - Green triangle and dashed vertical line on boxplot and histogram represents mean\n",
    "histogram_boxplot(df.loc[df[\"language_preferred\"] == \"French\"], \"time_spent_on_the_page\")"
   ]
  },
  {
   "cell_type": "code",
   "execution_count": 42,
   "id": "3043b8fb",
   "metadata": {},
   "outputs": [
    {
     "data": {
      "image/png": "[encoded data removed]",
      "text/plain": [
       "<Figure size 864x504 with 2 Axes>"
      ]
     },
     "metadata": {
      "needs_background": "light"
     },
     "output_type": "display_data"
    }
   ],
   "source": [
    "#Spanish - Green triangle and dashed vertical line on boxplot and histogram represents mean\n",
    "histogram_boxplot(df.loc[df[\"language_preferred\"] == \"Spanish\"], \"time_spent_on_the_page\")"
   ]
  },
  {
   "cell_type": "markdown",
   "id": "9da71ade",
   "metadata": {},
   "source": [
    "### Observations\n",
    "The boxplot and histograms for the different languages for the new landing page all have different means from the sample data. Statistical analysis needs to be done to determine if the means are similar."
   ]
  },
  {
   "cell_type": "markdown",
   "id": "bbcbbf8b",
   "metadata": {},
   "source": [
    "### Step 1: Define the null and alternate hypotheses"
   ]
  },
  {
   "cell_type": "markdown",
   "id": "23556708",
   "metadata": {},
   "source": [
    "We want to know if mean time spent on the new page is the same for English, French, and Spanish users.\n",
    "\n",
    "Null Hypothesis\n",
    "\n",
    "$H_{0}$: The mean times spent on the new landing page for English, French, and Spanish are equal.\n",
    "\n",
    "Alternative Hypothesis\n",
    "\n",
    "$H_{a}$: At least one of the mean times spent on the new landing page for English, French, and Spanish users is unequal."
   ]
  },
  {
   "cell_type": "markdown",
   "id": "dd26497d",
   "metadata": {},
   "source": [
    "### Step 2: Select Appropriate test\n",
    "\n",
    "The formulated hypotheses can be tested using a a one way ANOVA F-test, concerning the average time spent on the new landing page and, language landing page was displayed in (English/French/Spanish). Populations are normally distributed and samples are random."
   ]
  },
  {
   "cell_type": "markdown",
   "id": "00dcf2f5",
   "metadata": {},
   "source": [
    "### Step 3: Decide the significance level\n",
    "\n",
    "Significance level is $\\alpha$ = 0.05"
   ]
  },
  {
   "cell_type": "markdown",
   "id": "46e0fba7",
   "metadata": {},
   "source": [
    "### Step 4: Collect and prepare data\n"
   ]
  },
  {
   "cell_type": "code",
   "execution_count": 43,
   "id": "96811e97",
   "metadata": {},
   "outputs": [
    {
     "data": {
      "text/plain": [
       "1      7.13\n",
       "16     8.73\n",
       "22     3.65\n",
       "23     7.02\n",
       "25     4.39\n",
       "26     9.49\n",
       "30     5.41\n",
       "43     7.16\n",
       "44     3.91\n",
       "49    10.50\n",
       "51     5.65\n",
       "72     5.08\n",
       "73     7.46\n",
       "86     6.71\n",
       "91     8.47\n",
       "99     5.86\n",
       "Name: time_spent_on_the_page, dtype: float64"
      ]
     },
     "execution_count": 43,
     "metadata": {},
     "output_type": "execute_result"
    }
   ],
   "source": [
    "#Getting the time spent values on the new landing page for each language\n",
    "\n",
    "#English\n",
    "English = df.loc[df[\"language_preferred\"] == \"English\"]\n",
    "English = English[\"time_spent_on_the_page\"].where(English[\"landing_page\"] == \"new\").dropna()\n",
    "English"
   ]
  },
  {
   "cell_type": "code",
   "execution_count": 44,
   "id": "9f5febbe",
   "metadata": {},
   "outputs": [
    {
     "data": {
      "text/plain": [
       "6      5.25\n",
       "8     10.71\n",
       "13     6.03\n",
       "28     7.81\n",
       "46     5.37\n",
       "57     8.30\n",
       "60     6.01\n",
       "61     6.79\n",
       "65     7.27\n",
       "71     5.42\n",
       "78     9.12\n",
       "80     4.68\n",
       "81     5.26\n",
       "87     3.68\n",
       "88     3.30\n",
       "90     5.40\n",
       "93     4.94\n",
       "Name: time_spent_on_the_page, dtype: float64"
      ]
     },
     "execution_count": 44,
     "metadata": {},
     "output_type": "execute_result"
    }
   ],
   "source": [
    "#French\n",
    "French = df.loc[df[\"language_preferred\"] == \"French\"]\n",
    "French = French[\"time_spent_on_the_page\"].where(French[\"landing_page\"] == \"new\").dropna()\n",
    "French"
   ]
  },
  {
   "cell_type": "code",
   "execution_count": 45,
   "id": "60ab88c3",
   "metadata": {},
   "outputs": [
    {
     "data": {
      "text/plain": [
       "2     4.40\n",
       "4     4.75\n",
       "12    5.86\n",
       "15    6.27\n",
       "24    6.18\n",
       "38    1.65\n",
       "42    7.16\n",
       "47    7.23\n",
       "48    8.08\n",
       "52    6.47\n",
       "54    6.41\n",
       "68    6.70\n",
       "77    3.88\n",
       "82    5.74\n",
       "95    5.15\n",
       "97    7.07\n",
       "98    6.20\n",
       "Name: time_spent_on_the_page, dtype: float64"
      ]
     },
     "execution_count": 45,
     "metadata": {},
     "output_type": "execute_result"
    }
   ],
   "source": [
    "#Spanish\n",
    "Spanish = df.loc[df[\"language_preferred\"] == \"Spanish\"]\n",
    "Spanish = Spanish[\"time_spent_on_the_page\"].where(Spanish[\"landing_page\"] == \"new\").dropna()\n",
    "Spanish"
   ]
  },
  {
   "cell_type": "code",
   "execution_count": 46,
   "id": "e04d3fd1",
   "metadata": {},
   "outputs": [
    {
     "name": "stdout",
     "output_type": "stream",
     "text": [
      "The number of people that viewed the new English landing page is 16\n",
      "The number of people that viewed the new French landing page is 17\n",
      "The number of people that viewed the new Spanish landing page is 17\n"
     ]
    }
   ],
   "source": [
    "#Confirming that the English group has the same number of values per the contingency table\n",
    "if English.shape[0] == 16:\n",
    "    print(\"The number of people that viewed the new English landing page is\", English.shape[0])\n",
    "else:\n",
    "    print(\"The number of people that viewed the new English landing page is\" + str(English.shape[0]) + \", which is not 16\")\n",
    "\n",
    "#Confirming that the French group has the same number of values per the contingency table\n",
    "if French.shape[0] == 17:\n",
    "    print(\"The number of people that viewed the new French landing page is\", French.shape[0])\n",
    "else:\n",
    "    print(\"The number of people that viewed the new French landing page is\" + str(French.shape[0]) + \", which is not 17\")\n",
    "    \n",
    "#Confirming that the Spanish group has the same number of values per the contingency table\n",
    "if Spanish.shape[0] == 17:\n",
    "    print(\"The number of people that viewed the new Spanish landing page is\", Spanish.shape[0])\n",
    "else:\n",
    "    print(\"The number of people that viewed the new Spanish landing page is\" + str(Spanish.shape[0]) + \", which is not 17\")"
   ]
  },
  {
   "cell_type": "code",
   "execution_count": 47,
   "id": "9fe954ca",
   "metadata": {},
   "outputs": [
    {
     "name": "stdout",
     "output_type": "stream",
     "text": [
      "The mean time spent on the new landing page is 6.66 minutes for English users, 6.2 minutes for French users, and 5.84 minutes for Spanish users\n"
     ]
    }
   ],
   "source": [
    "#Mean times spent on new landing page for the different languages\n",
    "print(f\"The mean time spent on the new landing page is {round(English.mean(), 2)} minutes for English users, {round(French.mean(), 2)} minutes for French users, and {round(Spanish.mean(), 2)} minutes for Spanish users\")"
   ]
  },
  {
   "cell_type": "markdown",
   "id": "66eef280",
   "metadata": {},
   "source": [
    "### Step 5: Calculate the p-value"
   ]
  },
  {
   "cell_type": "code",
   "execution_count": 48,
   "id": "6bbac738",
   "metadata": {},
   "outputs": [
    {
     "name": "stdout",
     "output_type": "stream",
     "text": [
      "tstat = 0.8543992770006822 , p-value = 0.43204138694325955\n"
     ]
    }
   ],
   "source": [
    "test_statistic, p_value = f_oneway(English, French, Spanish)\n",
    "print(\"tstat =\", test_statistic, \", p-value =\", p_value)"
   ]
  },
  {
   "cell_type": "markdown",
   "id": "3b76cf29",
   "metadata": {},
   "source": [
    "### Step 6: Compare the p-value with $\\alpha$"
   ]
  },
  {
   "cell_type": "code",
   "execution_count": 49,
   "id": "f6887491",
   "metadata": {},
   "outputs": [
    {
     "name": "stdout",
     "output_type": "stream",
     "text": [
      "The p-value is greater than alpha, so the null hypothesis IS NOT rejected\n"
     ]
    }
   ],
   "source": [
    "#How does p_value compare to alpha?\n",
    "\n",
    "alpha = 0.05\n",
    "\n",
    "if p_value < alpha:\n",
    "    print(\"The p-value is less than alpha, so the null hypothesis IS rejected.\")\n",
    "else:\n",
    "    print(\"The p-value is greater than alpha, so the null hypothesis IS NOT rejected\")"
   ]
  },
  {
   "cell_type": "markdown",
   "id": "f2199e9a",
   "metadata": {},
   "source": [
    "### Step 7:  Draw inference"
   ]
  },
  {
   "cell_type": "markdown",
   "id": "d2e32742",
   "metadata": {},
   "source": [
    "Since the p-value is above the significance level, we don't reject the null hypothesis. The result is not statistically significant, and we don't have enough statistical evidence to say that at least one of the mean times spent on the new landing page for English, French, and Spanish users is unequal. This suggests that right now, despite the means of the samples being different, that the variances are within levels that are very nearly equal.\n",
    "\n",
    "Conclusion - The mean times spent on the new landing page for English, French, and Spanish are equal."
   ]
  },
  {
   "cell_type": "markdown",
   "id": "3acbc947",
   "metadata": {
    "id": "3acbc947"
   },
   "source": [
    "## Conclusion and Business Recommendations"
   ]
  },
  {
   "cell_type": "markdown",
   "id": "21fb1063",
   "metadata": {
    "id": "21fb1063"
   },
   "source": [
    "### Conclusions\n",
    "*  It was confirmed that no one user was subjected to both landing pages.\n",
    "\n",
    "*  After conducting a few statistical tests, the new landing page outperforms the old landing page. Users spent statistically significant more time on the new landing page, and it converts at a statiscally higher rate.\n",
    "\n",
    "*  The new landing page has the greatest differential between yes/no conversions (favoring yes) compared to the old landing page (+16 for new vs. +8 for old).\n",
    "\n",
    "*  For both landing types of landing page, the English landing pages the most yes conversions and highest differential between yes/no conversions (+10 yes/no). The Spanish landing pages barely had more yes conversions than no conversions (+4 yes/no). For the French landing pages, there were more no conversions than yes conversions (-2 yes/no).\n",
    "\n",
    "*  Conversion was independent of lanuage the page was displayed in.\n",
    "\n",
    "*  Despite there being some outliers on time spent, the mean times spent on the new landing pages are equal for the new English, French, and Spanish landing pages."
   ]
  },
  {
   "cell_type": "markdown",
   "id": "ccd8b1f4",
   "metadata": {},
   "source": [
    "### Business Recommendations\n",
    "*  Based on current results, consider re-running the statistical analyses to avoid the Law of Small Numbers fallacy (people underestimate the variability in small samples/small samples ought to resemble the population from which they are drawn/people overestimate what can be accomplished with a small study). Even though the number of people in both the control (old landing page) and treatment (new landing page group) groups were each 50 (meaning that n > 30 is needed for the Central Limit Theorem to kick in), all the subgroups (the languages preferred) were just over 30 each, and got further divided into smaller groups for yes/no conversions of both old and new landing pages. Rerunning these where all groups are n > 30 will confirm if variability was an issue with the intial set of samples.\n",
    "\n",
    "*  If unable to do a statistical analysis with a larger sample, update the English landing page to the new one since holistically, new landing page outperforms the old landing page, and the English landing pages (old and new) have the highest positive conversion rate compared to Spanish and French.\n",
    "\n",
    "*  For the Spanish and French landing pages, hold off on converting the landing pages to the new one. Collect heatmap data from the old and new landing pages to analyze differences in user behaviors for both landing pages to see what changes can be made to the landing page to boost subscriber count."
   ]
  }
 ],
 "metadata": {
  "colab": {
   "collapsed_sections": [],
   "name": "ENews_Express_Learner_Notebook[Full Code Version].ipynb",
   "provenance": []
  },
  "kernelspec": {
   "display_name": "Python 3 (ipykernel)",
   "language": "python",
   "name": "python3"
  },
  "language_info": {
   "codemirror_mode": {
    "name": "ipython",
    "version": 3
   },
   "file_extension": ".py",
   "mimetype": "text/x-python",
   "name": "python",
   "nbconvert_exporter": "python",
   "pygments_lexer": "ipython3",
   "version": "3.8.12"
  }
 },
 "nbformat": 4,
 "nbformat_minor": 5
}
